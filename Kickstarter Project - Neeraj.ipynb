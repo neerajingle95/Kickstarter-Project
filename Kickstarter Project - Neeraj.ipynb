{
 "cells": [
  {
   "cell_type": "markdown",
   "id": "333ffa5d",
   "metadata": {},
   "source": [
    "## Kickstarter Project\n",
    "\n",
    "In this project, we will explore [data related to crowdfunding](https://www.kaggle.com/kemical/kickstarter-projects). Based on our observations, we will try to determine and implement an ML model which will suit our requirements. The aim of this project is to predict the success or failure of a campaign based on several parameters such as category, deadline for crowdfunding and launch date."
   ]
  },
  {
   "cell_type": "markdown",
   "id": "9ad3dcda",
   "metadata": {},
   "source": [
    "---\n",
    "### Import libraries and set the style"
   ]
  },
  {
   "cell_type": "code",
   "execution_count": 1,
   "id": "09c69a54",
   "metadata": {},
   "outputs": [],
   "source": [
    "import numpy as np\n",
    "import pandas as pd\n",
    "import matplotlib.pyplot as plt\n",
    "import seaborn as sns\n",
    "\n",
    "%matplotlib inline"
   ]
  },
  {
   "cell_type": "code",
   "execution_count": 2,
   "id": "c80cebaa",
   "metadata": {},
   "outputs": [],
   "source": [
    "import matplotlib as mpl\n",
    "mpl.rcParams['patch.force_edgecolor'] = True\n",
    "\n",
    "sns.set_style('darkgrid')"
   ]
  },
  {
   "cell_type": "markdown",
   "id": "665df4b7",
   "metadata": {},
   "source": [
    "---\n",
    "### Import the dataset"
   ]
  },
  {
   "cell_type": "code",
   "execution_count": 3,
   "id": "871c9897",
   "metadata": {},
   "outputs": [
    {
     "name": "stderr",
     "output_type": "stream",
     "text": [
      "C:\\Users\\neera\\anaconda3\\lib\\site-packages\\IPython\\core\\interactiveshell.py:3165: DtypeWarning: Columns (13,14,15) have mixed types.Specify dtype option on import or set low_memory=False.\n",
      "  has_raised = await self.run_ast_nodes(code_ast.body, cell_name,\n"
     ]
    },
    {
     "data": {
      "text/html": [
       "<div>\n",
       "<style scoped>\n",
       "    .dataframe tbody tr th:only-of-type {\n",
       "        vertical-align: middle;\n",
       "    }\n",
       "\n",
       "    .dataframe tbody tr th {\n",
       "        vertical-align: top;\n",
       "    }\n",
       "\n",
       "    .dataframe thead th {\n",
       "        text-align: right;\n",
       "    }\n",
       "</style>\n",
       "<table border=\"1\" class=\"dataframe\">\n",
       "  <thead>\n",
       "    <tr style=\"text-align: right;\">\n",
       "      <th></th>\n",
       "      <th>ID</th>\n",
       "      <th>name</th>\n",
       "      <th>category</th>\n",
       "      <th>main_category</th>\n",
       "      <th>currency</th>\n",
       "      <th>deadline</th>\n",
       "      <th>goal</th>\n",
       "      <th>launched</th>\n",
       "      <th>pledged</th>\n",
       "      <th>state</th>\n",
       "      <th>backers</th>\n",
       "      <th>country</th>\n",
       "      <th>usd pledged</th>\n",
       "      <th>Unnamed: 13</th>\n",
       "      <th>Unnamed: 14</th>\n",
       "      <th>Unnamed: 15</th>\n",
       "      <th>Unnamed: 16</th>\n",
       "    </tr>\n",
       "  </thead>\n",
       "  <tbody>\n",
       "    <tr>\n",
       "      <th>0</th>\n",
       "      <td>1000002330</td>\n",
       "      <td>The Songs of Adelaide &amp; Abullah</td>\n",
       "      <td>Poetry</td>\n",
       "      <td>Publishing</td>\n",
       "      <td>GBP</td>\n",
       "      <td>2015-10-09 11:36:00</td>\n",
       "      <td>1000</td>\n",
       "      <td>2015-08-11 12:12:28</td>\n",
       "      <td>0</td>\n",
       "      <td>failed</td>\n",
       "      <td>0</td>\n",
       "      <td>GB</td>\n",
       "      <td>0</td>\n",
       "      <td>NaN</td>\n",
       "      <td>NaN</td>\n",
       "      <td>NaN</td>\n",
       "      <td>NaN</td>\n",
       "    </tr>\n",
       "    <tr>\n",
       "      <th>1</th>\n",
       "      <td>1000004038</td>\n",
       "      <td>Where is Hank?</td>\n",
       "      <td>Narrative Film</td>\n",
       "      <td>Film &amp; Video</td>\n",
       "      <td>USD</td>\n",
       "      <td>2013-02-26 00:20:50</td>\n",
       "      <td>45000</td>\n",
       "      <td>2013-01-12 00:20:50</td>\n",
       "      <td>220</td>\n",
       "      <td>failed</td>\n",
       "      <td>3</td>\n",
       "      <td>US</td>\n",
       "      <td>220</td>\n",
       "      <td>NaN</td>\n",
       "      <td>NaN</td>\n",
       "      <td>NaN</td>\n",
       "      <td>NaN</td>\n",
       "    </tr>\n",
       "    <tr>\n",
       "      <th>2</th>\n",
       "      <td>1000007540</td>\n",
       "      <td>ToshiCapital Rekordz Needs Help to Complete Album</td>\n",
       "      <td>Music</td>\n",
       "      <td>Music</td>\n",
       "      <td>USD</td>\n",
       "      <td>2012-04-16 04:24:11</td>\n",
       "      <td>5000</td>\n",
       "      <td>2012-03-17 03:24:11</td>\n",
       "      <td>1</td>\n",
       "      <td>failed</td>\n",
       "      <td>1</td>\n",
       "      <td>US</td>\n",
       "      <td>1</td>\n",
       "      <td>NaN</td>\n",
       "      <td>NaN</td>\n",
       "      <td>NaN</td>\n",
       "      <td>NaN</td>\n",
       "    </tr>\n",
       "    <tr>\n",
       "      <th>3</th>\n",
       "      <td>1000011046</td>\n",
       "      <td>Community Film Project: The Art of Neighborhoo...</td>\n",
       "      <td>Film &amp; Video</td>\n",
       "      <td>Film &amp; Video</td>\n",
       "      <td>USD</td>\n",
       "      <td>2015-08-29 01:00:00</td>\n",
       "      <td>19500</td>\n",
       "      <td>2015-07-04 08:35:03</td>\n",
       "      <td>1283</td>\n",
       "      <td>canceled</td>\n",
       "      <td>14</td>\n",
       "      <td>US</td>\n",
       "      <td>1283</td>\n",
       "      <td>NaN</td>\n",
       "      <td>NaN</td>\n",
       "      <td>NaN</td>\n",
       "      <td>NaN</td>\n",
       "    </tr>\n",
       "    <tr>\n",
       "      <th>4</th>\n",
       "      <td>1000014025</td>\n",
       "      <td>Monarch Espresso Bar</td>\n",
       "      <td>Restaurants</td>\n",
       "      <td>Food</td>\n",
       "      <td>USD</td>\n",
       "      <td>2016-04-01 13:38:27</td>\n",
       "      <td>50000</td>\n",
       "      <td>2016-02-26 13:38:27</td>\n",
       "      <td>52375</td>\n",
       "      <td>successful</td>\n",
       "      <td>224</td>\n",
       "      <td>US</td>\n",
       "      <td>52375</td>\n",
       "      <td>NaN</td>\n",
       "      <td>NaN</td>\n",
       "      <td>NaN</td>\n",
       "      <td>NaN</td>\n",
       "    </tr>\n",
       "  </tbody>\n",
       "</table>\n",
       "</div>"
      ],
      "text/plain": [
       "          ID                                               name   \\\n",
       "0  1000002330                    The Songs of Adelaide & Abullah   \n",
       "1  1000004038                                     Where is Hank?   \n",
       "2  1000007540  ToshiCapital Rekordz Needs Help to Complete Album   \n",
       "3  1000011046  Community Film Project: The Art of Neighborhoo...   \n",
       "4  1000014025                               Monarch Espresso Bar   \n",
       "\n",
       "        category  main_category  currency             deadline   goal   \\\n",
       "0          Poetry     Publishing       GBP  2015-10-09 11:36:00   1000   \n",
       "1  Narrative Film   Film & Video       USD  2013-02-26 00:20:50  45000   \n",
       "2           Music          Music       USD  2012-04-16 04:24:11   5000   \n",
       "3    Film & Video   Film & Video       USD  2015-08-29 01:00:00  19500   \n",
       "4     Restaurants           Food       USD  2016-04-01 13:38:27  50000   \n",
       "\n",
       "             launched  pledged       state  backers  country  usd pledged   \\\n",
       "0  2015-08-11 12:12:28        0      failed        0       GB            0   \n",
       "1  2013-01-12 00:20:50      220      failed        3       US          220   \n",
       "2  2012-03-17 03:24:11        1      failed        1       US            1   \n",
       "3  2015-07-04 08:35:03     1283    canceled       14       US         1283   \n",
       "4  2016-02-26 13:38:27    52375  successful      224       US        52375   \n",
       "\n",
       "  Unnamed: 13 Unnamed: 14 Unnamed: 15  Unnamed: 16  \n",
       "0         NaN         NaN         NaN          NaN  \n",
       "1         NaN         NaN         NaN          NaN  \n",
       "2         NaN         NaN         NaN          NaN  \n",
       "3         NaN         NaN         NaN          NaN  \n",
       "4         NaN         NaN         NaN          NaN  "
      ]
     },
     "execution_count": 3,
     "metadata": {},
     "output_type": "execute_result"
    }
   ],
   "source": [
    "df = pd.read_csv('ks-projects-201612.csv')\n",
    "df.head()"
   ]
  },
  {
   "cell_type": "markdown",
   "id": "2f761fda",
   "metadata": {},
   "source": [
    "---\n",
    "### Examine and clean the data"
   ]
  },
  {
   "cell_type": "code",
   "execution_count": 4,
   "id": "a8a45233",
   "metadata": {},
   "outputs": [
    {
     "name": "stdout",
     "output_type": "stream",
     "text": [
      "<class 'pandas.core.frame.DataFrame'>\n",
      "RangeIndex: 323750 entries, 0 to 323749\n",
      "Data columns (total 17 columns):\n",
      " #   Column          Non-Null Count   Dtype  \n",
      "---  ------          --------------   -----  \n",
      " 0   ID              323750 non-null  int64  \n",
      " 1   name            323746 non-null  object \n",
      " 2   category        323745 non-null  object \n",
      " 3   main_category   323750 non-null  object \n",
      " 4   currency        323750 non-null  object \n",
      " 5   deadline        323750 non-null  object \n",
      " 6   goal            323750 non-null  object \n",
      " 7   launched        323750 non-null  object \n",
      " 8   pledged         323750 non-null  object \n",
      " 9   state           323750 non-null  object \n",
      " 10  backers         323750 non-null  object \n",
      " 11  country         323750 non-null  object \n",
      " 12  usd pledged     319960 non-null  object \n",
      " 13  Unnamed: 13     625 non-null     object \n",
      " 14  Unnamed: 14     12 non-null      object \n",
      " 15  Unnamed: 15     4 non-null       object \n",
      " 16  Unnamed: 16     1 non-null       float64\n",
      "dtypes: float64(1), int64(1), object(15)\n",
      "memory usage: 42.0+ MB\n"
     ]
    }
   ],
   "source": [
    "df.info()"
   ]
  },
  {
   "cell_type": "markdown",
   "id": "a546f637",
   "metadata": {},
   "source": [
    "Let's drop the last four columns as they have very few non-null values."
   ]
  },
  {
   "cell_type": "code",
   "execution_count": 5,
   "id": "49e62869",
   "metadata": {},
   "outputs": [
    {
     "data": {
      "text/plain": [
       "Index(['ID ', 'name ', 'category ', 'main_category ', 'currency ', 'deadline ',\n",
       "       'goal ', 'launched ', 'pledged ', 'state ', 'backers ', 'country ',\n",
       "       'usd pledged ', 'Unnamed: 13', 'Unnamed: 14', 'Unnamed: 15',\n",
       "       'Unnamed: 16'],\n",
       "      dtype='object')"
      ]
     },
     "execution_count": 5,
     "metadata": {},
     "output_type": "execute_result"
    }
   ],
   "source": [
    "df.columns"
   ]
  },
  {
   "cell_type": "code",
   "execution_count": 6,
   "id": "2a9a6f88",
   "metadata": {},
   "outputs": [
    {
     "data": {
      "text/plain": [
       "Index(['Unnamed: 13', 'Unnamed: 14', 'Unnamed: 15', 'Unnamed: 16'], dtype='object')"
      ]
     },
     "execution_count": 6,
     "metadata": {},
     "output_type": "execute_result"
    }
   ],
   "source": [
    "df.columns[-4:]"
   ]
  },
  {
   "cell_type": "code",
   "execution_count": 7,
   "id": "4ed502ab",
   "metadata": {},
   "outputs": [
    {
     "data": {
      "text/html": [
       "<div>\n",
       "<style scoped>\n",
       "    .dataframe tbody tr th:only-of-type {\n",
       "        vertical-align: middle;\n",
       "    }\n",
       "\n",
       "    .dataframe tbody tr th {\n",
       "        vertical-align: top;\n",
       "    }\n",
       "\n",
       "    .dataframe thead th {\n",
       "        text-align: right;\n",
       "    }\n",
       "</style>\n",
       "<table border=\"1\" class=\"dataframe\">\n",
       "  <thead>\n",
       "    <tr style=\"text-align: right;\">\n",
       "      <th></th>\n",
       "      <th>ID</th>\n",
       "      <th>name</th>\n",
       "      <th>category</th>\n",
       "      <th>main_category</th>\n",
       "      <th>currency</th>\n",
       "      <th>deadline</th>\n",
       "      <th>goal</th>\n",
       "      <th>launched</th>\n",
       "      <th>pledged</th>\n",
       "      <th>state</th>\n",
       "      <th>backers</th>\n",
       "      <th>country</th>\n",
       "      <th>usd pledged</th>\n",
       "    </tr>\n",
       "  </thead>\n",
       "  <tbody>\n",
       "    <tr>\n",
       "      <th>0</th>\n",
       "      <td>1000002330</td>\n",
       "      <td>The Songs of Adelaide &amp; Abullah</td>\n",
       "      <td>Poetry</td>\n",
       "      <td>Publishing</td>\n",
       "      <td>GBP</td>\n",
       "      <td>2015-10-09 11:36:00</td>\n",
       "      <td>1000</td>\n",
       "      <td>2015-08-11 12:12:28</td>\n",
       "      <td>0</td>\n",
       "      <td>failed</td>\n",
       "      <td>0</td>\n",
       "      <td>GB</td>\n",
       "      <td>0</td>\n",
       "    </tr>\n",
       "    <tr>\n",
       "      <th>1</th>\n",
       "      <td>1000004038</td>\n",
       "      <td>Where is Hank?</td>\n",
       "      <td>Narrative Film</td>\n",
       "      <td>Film &amp; Video</td>\n",
       "      <td>USD</td>\n",
       "      <td>2013-02-26 00:20:50</td>\n",
       "      <td>45000</td>\n",
       "      <td>2013-01-12 00:20:50</td>\n",
       "      <td>220</td>\n",
       "      <td>failed</td>\n",
       "      <td>3</td>\n",
       "      <td>US</td>\n",
       "      <td>220</td>\n",
       "    </tr>\n",
       "    <tr>\n",
       "      <th>2</th>\n",
       "      <td>1000007540</td>\n",
       "      <td>ToshiCapital Rekordz Needs Help to Complete Album</td>\n",
       "      <td>Music</td>\n",
       "      <td>Music</td>\n",
       "      <td>USD</td>\n",
       "      <td>2012-04-16 04:24:11</td>\n",
       "      <td>5000</td>\n",
       "      <td>2012-03-17 03:24:11</td>\n",
       "      <td>1</td>\n",
       "      <td>failed</td>\n",
       "      <td>1</td>\n",
       "      <td>US</td>\n",
       "      <td>1</td>\n",
       "    </tr>\n",
       "    <tr>\n",
       "      <th>3</th>\n",
       "      <td>1000011046</td>\n",
       "      <td>Community Film Project: The Art of Neighborhoo...</td>\n",
       "      <td>Film &amp; Video</td>\n",
       "      <td>Film &amp; Video</td>\n",
       "      <td>USD</td>\n",
       "      <td>2015-08-29 01:00:00</td>\n",
       "      <td>19500</td>\n",
       "      <td>2015-07-04 08:35:03</td>\n",
       "      <td>1283</td>\n",
       "      <td>canceled</td>\n",
       "      <td>14</td>\n",
       "      <td>US</td>\n",
       "      <td>1283</td>\n",
       "    </tr>\n",
       "    <tr>\n",
       "      <th>4</th>\n",
       "      <td>1000014025</td>\n",
       "      <td>Monarch Espresso Bar</td>\n",
       "      <td>Restaurants</td>\n",
       "      <td>Food</td>\n",
       "      <td>USD</td>\n",
       "      <td>2016-04-01 13:38:27</td>\n",
       "      <td>50000</td>\n",
       "      <td>2016-02-26 13:38:27</td>\n",
       "      <td>52375</td>\n",
       "      <td>successful</td>\n",
       "      <td>224</td>\n",
       "      <td>US</td>\n",
       "      <td>52375</td>\n",
       "    </tr>\n",
       "  </tbody>\n",
       "</table>\n",
       "</div>"
      ],
      "text/plain": [
       "          ID                                               name   \\\n",
       "0  1000002330                    The Songs of Adelaide & Abullah   \n",
       "1  1000004038                                     Where is Hank?   \n",
       "2  1000007540  ToshiCapital Rekordz Needs Help to Complete Album   \n",
       "3  1000011046  Community Film Project: The Art of Neighborhoo...   \n",
       "4  1000014025                               Monarch Espresso Bar   \n",
       "\n",
       "        category  main_category  currency             deadline   goal   \\\n",
       "0          Poetry     Publishing       GBP  2015-10-09 11:36:00   1000   \n",
       "1  Narrative Film   Film & Video       USD  2013-02-26 00:20:50  45000   \n",
       "2           Music          Music       USD  2012-04-16 04:24:11   5000   \n",
       "3    Film & Video   Film & Video       USD  2015-08-29 01:00:00  19500   \n",
       "4     Restaurants           Food       USD  2016-04-01 13:38:27  50000   \n",
       "\n",
       "             launched  pledged       state  backers  country  usd pledged   \n",
       "0  2015-08-11 12:12:28        0      failed        0       GB            0  \n",
       "1  2013-01-12 00:20:50      220      failed        3       US          220  \n",
       "2  2012-03-17 03:24:11        1      failed        1       US            1  \n",
       "3  2015-07-04 08:35:03     1283    canceled       14       US         1283  \n",
       "4  2016-02-26 13:38:27    52375  successful      224       US        52375  "
      ]
     },
     "execution_count": 7,
     "metadata": {},
     "output_type": "execute_result"
    }
   ],
   "source": [
    "df.drop(df.columns[-4:], axis=1, inplace=True)\n",
    "df.head()"
   ]
  },
  {
   "cell_type": "code",
   "execution_count": 8,
   "id": "56f637a1",
   "metadata": {},
   "outputs": [
    {
     "data": {
      "text/plain": [
       "Index(['ID ', 'name ', 'category ', 'main_category ', 'currency ', 'deadline ',\n",
       "       'goal ', 'launched ', 'pledged ', 'state ', 'backers ', 'country ',\n",
       "       'usd pledged '],\n",
       "      dtype='object')"
      ]
     },
     "execution_count": 8,
     "metadata": {},
     "output_type": "execute_result"
    }
   ],
   "source": [
    "df.columns"
   ]
  },
  {
   "cell_type": "markdown",
   "id": "510a3c35",
   "metadata": {},
   "source": [
    "Observe that the column names have trailing spaces. Let's remove these."
   ]
  },
  {
   "cell_type": "code",
   "execution_count": 9,
   "id": "7f6385d2",
   "metadata": {},
   "outputs": [
    {
     "data": {
      "text/plain": [
       "Index(['ID', 'name', 'category', 'main_category', 'currency', 'deadline',\n",
       "       'goal', 'launched', 'pledged', 'state', 'backers', 'country',\n",
       "       'usd pledged'],\n",
       "      dtype='object')"
      ]
     },
     "execution_count": 9,
     "metadata": {},
     "output_type": "execute_result"
    }
   ],
   "source": [
    "df.columns = df.columns.str.strip()\n",
    "df.columns"
   ]
  },
  {
   "cell_type": "code",
   "execution_count": 10,
   "id": "bb7fd284",
   "metadata": {},
   "outputs": [
    {
     "data": {
      "text/plain": [
       "USD                   260298\n",
       "GBP                    27968\n",
       "CAD                    12197\n",
       "EUR                    11555\n",
       "AUD                     6347\n",
       "SEK                     1300\n",
       "NZD                     1164\n",
       "DKK                      841\n",
       "NOK                      540\n",
       "CHF                      478\n",
       "MXN                      214\n",
       "Publishing               123\n",
       "SGD                      119\n",
       "HKD                       97\n",
       "Film & Video              83\n",
       "Music                     73\n",
       "Art                       64\n",
       "Food                      44\n",
       "Technology                44\n",
       "Design                    44\n",
       "Games                     36\n",
       "Fashion                   32\n",
       "Photography               25\n",
       "Journalism                14\n",
       "Theater                   13\n",
       "Comics                    13\n",
       "Crafts                    10\n",
       "Dance                      5\n",
       " tango and culture         1\n",
       " Religion                  1\n",
       "Rock                       1\n",
       "Painting                   1\n",
       "Software                   1\n",
       " clothing company          1\n",
       " Be active!                1\n",
       "Apparel                    1\n",
       "Nonfiction                 1\n",
       "Name: currency, dtype: int64"
      ]
     },
     "execution_count": 10,
     "metadata": {},
     "output_type": "execute_result"
    }
   ],
   "source": [
    "df['currency'].value_counts()"
   ]
  },
  {
   "cell_type": "markdown",
   "id": "2bd8120c",
   "metadata": {},
   "source": [
    "We can see that some rows have incorrectly input data. The value of currency cannot be 'Publishing', 'Film & Video' and so on. Let's remove these rows."
   ]
  },
  {
   "cell_type": "code",
   "execution_count": 11,
   "id": "6a01527d",
   "metadata": {},
   "outputs": [],
   "source": [
    "valid_currency_values = ['USD', 'GBP', 'CAD', 'EUR', 'AUD', 'SEK', 'NZD', 'DKK', 'NOK', 'CHF', 'MXN', 'SGD', 'HKD']"
   ]
  },
  {
   "cell_type": "code",
   "execution_count": 12,
   "id": "1782d9f9",
   "metadata": {},
   "outputs": [
    {
     "data": {
      "text/plain": [
       "0         True\n",
       "1         True\n",
       "2         True\n",
       "3         True\n",
       "4         True\n",
       "          ... \n",
       "323745    True\n",
       "323746    True\n",
       "323747    True\n",
       "323748    True\n",
       "323749    True\n",
       "Name: currency, Length: 323750, dtype: bool"
      ]
     },
     "execution_count": 12,
     "metadata": {},
     "output_type": "execute_result"
    }
   ],
   "source": [
    "df['currency'].isin(valid_currency_values)"
   ]
  },
  {
   "cell_type": "code",
   "execution_count": 13,
   "id": "3035476c",
   "metadata": {},
   "outputs": [
    {
     "data": {
      "text/plain": [
       "True     323118\n",
       "False       632\n",
       "Name: currency, dtype: int64"
      ]
     },
     "execution_count": 13,
     "metadata": {},
     "output_type": "execute_result"
    }
   ],
   "source": [
    "df['currency'].isin(valid_currency_values).value_counts()"
   ]
  },
  {
   "cell_type": "code",
   "execution_count": 14,
   "id": "16ab83c8",
   "metadata": {},
   "outputs": [
    {
     "name": "stdout",
     "output_type": "stream",
     "text": [
      "<class 'pandas.core.frame.DataFrame'>\n",
      "Int64Index: 323118 entries, 0 to 323749\n",
      "Data columns (total 13 columns):\n",
      " #   Column         Non-Null Count   Dtype \n",
      "---  ------         --------------   ----- \n",
      " 0   ID             323118 non-null  int64 \n",
      " 1   name           323114 non-null  object\n",
      " 2   category       323118 non-null  object\n",
      " 3   main_category  323118 non-null  object\n",
      " 4   currency       323118 non-null  object\n",
      " 5   deadline       323118 non-null  object\n",
      " 6   goal           323118 non-null  object\n",
      " 7   launched       323118 non-null  object\n",
      " 8   pledged        323118 non-null  object\n",
      " 9   state          323118 non-null  object\n",
      " 10  backers        323118 non-null  object\n",
      " 11  country        323118 non-null  object\n",
      " 12  usd pledged    319328 non-null  object\n",
      "dtypes: int64(1), object(12)\n",
      "memory usage: 34.5+ MB\n"
     ]
    }
   ],
   "source": [
    "df = df[df['currency'].isin(valid_currency_values)]\n",
    "df.info()"
   ]
  },
  {
   "cell_type": "code",
   "execution_count": 15,
   "id": "018b56d9",
   "metadata": {
    "scrolled": true
   },
   "outputs": [
    {
     "name": "stdout",
     "output_type": "stream",
     "text": [
      "<class 'pandas.core.frame.DataFrame'>\n",
      "Int64Index: 323118 entries, 0 to 323749\n",
      "Data columns (total 13 columns):\n",
      " #   Column         Non-Null Count   Dtype \n",
      "---  ------         --------------   ----- \n",
      " 0   ID             323118 non-null  int64 \n",
      " 1   name           323114 non-null  object\n",
      " 2   category       323118 non-null  object\n",
      " 3   main_category  323118 non-null  object\n",
      " 4   currency       323118 non-null  object\n",
      " 5   deadline       323118 non-null  object\n",
      " 6   goal           323118 non-null  object\n",
      " 7   launched       323118 non-null  object\n",
      " 8   pledged        323118 non-null  object\n",
      " 9   state          323118 non-null  object\n",
      " 10  backers        323118 non-null  object\n",
      " 11  country        323118 non-null  object\n",
      " 12  usd pledged    319328 non-null  object\n",
      "dtypes: int64(1), object(12)\n",
      "memory usage: 34.5+ MB\n"
     ]
    }
   ],
   "source": [
    "df.info()"
   ]
  },
  {
   "cell_type": "markdown",
   "id": "2d31d671",
   "metadata": {},
   "source": [
    "We have successfully removed the incorrect data values (around 630 in number).\n",
    "\n",
    "The 'goal', 'pledged', 'backers' and 'usd pledged' columns should be integers/floats. Let's do the necessary type conversions. We will also drop the 'ID' and 'name' columns."
   ]
  },
  {
   "cell_type": "code",
   "execution_count": 16,
   "id": "b4d161ff",
   "metadata": {},
   "outputs": [],
   "source": [
    "df.drop(['ID', 'name'], axis=1, inplace=True)"
   ]
  },
  {
   "cell_type": "code",
   "execution_count": 17,
   "id": "183de389",
   "metadata": {},
   "outputs": [
    {
     "name": "stdout",
     "output_type": "stream",
     "text": [
      "<class 'pandas.core.frame.DataFrame'>\n",
      "Int64Index: 323118 entries, 0 to 323749\n",
      "Data columns (total 11 columns):\n",
      " #   Column         Non-Null Count   Dtype  \n",
      "---  ------         --------------   -----  \n",
      " 0   category       323118 non-null  object \n",
      " 1   main_category  323118 non-null  object \n",
      " 2   currency       323118 non-null  object \n",
      " 3   deadline       323118 non-null  object \n",
      " 4   goal           323118 non-null  float64\n",
      " 5   launched       323118 non-null  object \n",
      " 6   pledged        323118 non-null  float64\n",
      " 7   state          323118 non-null  object \n",
      " 8   backers        323118 non-null  int64  \n",
      " 9   country        323118 non-null  object \n",
      " 10  usd pledged    319328 non-null  float64\n",
      "dtypes: float64(3), int64(1), object(7)\n",
      "memory usage: 29.6+ MB\n"
     ]
    }
   ],
   "source": [
    "df[['goal', 'pledged', 'backers', 'usd pledged']] = df[['goal', 'pledged', 'backers', 'usd pledged']].apply(pd.to_numeric)\n",
    "df.info()"
   ]
  },
  {
   "cell_type": "code",
   "execution_count": 18,
   "id": "cad6ed4d",
   "metadata": {},
   "outputs": [
    {
     "data": {
      "text/html": [
       "<div>\n",
       "<style scoped>\n",
       "    .dataframe tbody tr th:only-of-type {\n",
       "        vertical-align: middle;\n",
       "    }\n",
       "\n",
       "    .dataframe tbody tr th {\n",
       "        vertical-align: top;\n",
       "    }\n",
       "\n",
       "    .dataframe thead th {\n",
       "        text-align: right;\n",
       "    }\n",
       "</style>\n",
       "<table border=\"1\" class=\"dataframe\">\n",
       "  <thead>\n",
       "    <tr style=\"text-align: right;\">\n",
       "      <th></th>\n",
       "      <th>goal</th>\n",
       "      <th>pledged</th>\n",
       "      <th>backers</th>\n",
       "      <th>usd pledged</th>\n",
       "    </tr>\n",
       "  </thead>\n",
       "  <tbody>\n",
       "    <tr>\n",
       "      <th>count</th>\n",
       "      <td>3.231180e+05</td>\n",
       "      <td>3.231180e+05</td>\n",
       "      <td>323118.000000</td>\n",
       "      <td>3.193280e+05</td>\n",
       "    </tr>\n",
       "    <tr>\n",
       "      <th>mean</th>\n",
       "      <td>4.715252e+04</td>\n",
       "      <td>8.696732e+03</td>\n",
       "      <td>101.634880</td>\n",
       "      <td>7.847678e+03</td>\n",
       "    </tr>\n",
       "    <tr>\n",
       "      <th>std</th>\n",
       "      <td>1.139577e+06</td>\n",
       "      <td>8.958641e+04</td>\n",
       "      <td>934.917289</td>\n",
       "      <td>8.468405e+04</td>\n",
       "    </tr>\n",
       "    <tr>\n",
       "      <th>min</th>\n",
       "      <td>1.000000e-02</td>\n",
       "      <td>0.000000e+00</td>\n",
       "      <td>0.000000</td>\n",
       "      <td>0.000000e+00</td>\n",
       "    </tr>\n",
       "    <tr>\n",
       "      <th>25%</th>\n",
       "      <td>2.000000e+03</td>\n",
       "      <td>3.000000e+01</td>\n",
       "      <td>2.000000</td>\n",
       "      <td>2.500000e+01</td>\n",
       "    </tr>\n",
       "    <tr>\n",
       "      <th>50%</th>\n",
       "      <td>5.000000e+03</td>\n",
       "      <td>6.100000e+02</td>\n",
       "      <td>12.000000</td>\n",
       "      <td>5.350000e+02</td>\n",
       "    </tr>\n",
       "    <tr>\n",
       "      <th>75%</th>\n",
       "      <td>1.500000e+04</td>\n",
       "      <td>3.938000e+03</td>\n",
       "      <td>55.000000</td>\n",
       "      <td>3.575000e+03</td>\n",
       "    </tr>\n",
       "    <tr>\n",
       "      <th>max</th>\n",
       "      <td>1.000000e+08</td>\n",
       "      <td>2.033899e+07</td>\n",
       "      <td>219382.000000</td>\n",
       "      <td>2.033899e+07</td>\n",
       "    </tr>\n",
       "  </tbody>\n",
       "</table>\n",
       "</div>"
      ],
      "text/plain": [
       "               goal       pledged        backers   usd pledged\n",
       "count  3.231180e+05  3.231180e+05  323118.000000  3.193280e+05\n",
       "mean   4.715252e+04  8.696732e+03     101.634880  7.847678e+03\n",
       "std    1.139577e+06  8.958641e+04     934.917289  8.468405e+04\n",
       "min    1.000000e-02  0.000000e+00       0.000000  0.000000e+00\n",
       "25%    2.000000e+03  3.000000e+01       2.000000  2.500000e+01\n",
       "50%    5.000000e+03  6.100000e+02      12.000000  5.350000e+02\n",
       "75%    1.500000e+04  3.938000e+03      55.000000  3.575000e+03\n",
       "max    1.000000e+08  2.033899e+07  219382.000000  2.033899e+07"
      ]
     },
     "execution_count": 18,
     "metadata": {},
     "output_type": "execute_result"
    }
   ],
   "source": [
    "df.describe()"
   ]
  },
  {
   "cell_type": "markdown",
   "id": "07e8ec9a",
   "metadata": {},
   "source": [
    "Finally, we can see that the 'usd pledged' column has some missing values. Let's impute them with the mean value for 'usd pledged'."
   ]
  },
  {
   "cell_type": "code",
   "execution_count": 19,
   "id": "cda26ea1",
   "metadata": {},
   "outputs": [
    {
     "name": "stdout",
     "output_type": "stream",
     "text": [
      "<class 'pandas.core.frame.DataFrame'>\n",
      "Int64Index: 323118 entries, 0 to 323749\n",
      "Data columns (total 11 columns):\n",
      " #   Column         Non-Null Count   Dtype  \n",
      "---  ------         --------------   -----  \n",
      " 0   category       323118 non-null  object \n",
      " 1   main_category  323118 non-null  object \n",
      " 2   currency       323118 non-null  object \n",
      " 3   deadline       323118 non-null  object \n",
      " 4   goal           323118 non-null  float64\n",
      " 5   launched       323118 non-null  object \n",
      " 6   pledged        323118 non-null  float64\n",
      " 7   state          323118 non-null  object \n",
      " 8   backers        323118 non-null  int64  \n",
      " 9   country        323118 non-null  object \n",
      " 10  usd pledged    323118 non-null  float64\n",
      "dtypes: float64(3), int64(1), object(7)\n",
      "memory usage: 29.6+ MB\n"
     ]
    }
   ],
   "source": [
    "df['usd pledged'].fillna(df['usd pledged'].mean(), inplace=True)\n",
    "df.info()"
   ]
  },
  {
   "cell_type": "markdown",
   "id": "7bb37ea4",
   "metadata": {},
   "source": [
    "Before doing any feature engineering, let's explore the data to understand what columns are important and how all these columns are related to each other.\n",
    "\n",
    "---\n",
    "### Exploratory data analysis - I"
   ]
  },
  {
   "cell_type": "code",
   "execution_count": 20,
   "id": "98d8787b",
   "metadata": {},
   "outputs": [
    {
     "data": {
      "text/html": [
       "<div>\n",
       "<style scoped>\n",
       "    .dataframe tbody tr th:only-of-type {\n",
       "        vertical-align: middle;\n",
       "    }\n",
       "\n",
       "    .dataframe tbody tr th {\n",
       "        vertical-align: top;\n",
       "    }\n",
       "\n",
       "    .dataframe thead th {\n",
       "        text-align: right;\n",
       "    }\n",
       "</style>\n",
       "<table border=\"1\" class=\"dataframe\">\n",
       "  <thead>\n",
       "    <tr style=\"text-align: right;\">\n",
       "      <th></th>\n",
       "      <th>category</th>\n",
       "      <th>main_category</th>\n",
       "      <th>currency</th>\n",
       "      <th>deadline</th>\n",
       "      <th>goal</th>\n",
       "      <th>launched</th>\n",
       "      <th>pledged</th>\n",
       "      <th>state</th>\n",
       "      <th>backers</th>\n",
       "      <th>country</th>\n",
       "      <th>usd pledged</th>\n",
       "    </tr>\n",
       "  </thead>\n",
       "  <tbody>\n",
       "    <tr>\n",
       "      <th>0</th>\n",
       "      <td>Poetry</td>\n",
       "      <td>Publishing</td>\n",
       "      <td>GBP</td>\n",
       "      <td>2015-10-09 11:36:00</td>\n",
       "      <td>1000.0</td>\n",
       "      <td>2015-08-11 12:12:28</td>\n",
       "      <td>0.0</td>\n",
       "      <td>failed</td>\n",
       "      <td>0</td>\n",
       "      <td>GB</td>\n",
       "      <td>0.0</td>\n",
       "    </tr>\n",
       "    <tr>\n",
       "      <th>1</th>\n",
       "      <td>Narrative Film</td>\n",
       "      <td>Film &amp; Video</td>\n",
       "      <td>USD</td>\n",
       "      <td>2013-02-26 00:20:50</td>\n",
       "      <td>45000.0</td>\n",
       "      <td>2013-01-12 00:20:50</td>\n",
       "      <td>220.0</td>\n",
       "      <td>failed</td>\n",
       "      <td>3</td>\n",
       "      <td>US</td>\n",
       "      <td>220.0</td>\n",
       "    </tr>\n",
       "    <tr>\n",
       "      <th>2</th>\n",
       "      <td>Music</td>\n",
       "      <td>Music</td>\n",
       "      <td>USD</td>\n",
       "      <td>2012-04-16 04:24:11</td>\n",
       "      <td>5000.0</td>\n",
       "      <td>2012-03-17 03:24:11</td>\n",
       "      <td>1.0</td>\n",
       "      <td>failed</td>\n",
       "      <td>1</td>\n",
       "      <td>US</td>\n",
       "      <td>1.0</td>\n",
       "    </tr>\n",
       "    <tr>\n",
       "      <th>3</th>\n",
       "      <td>Film &amp; Video</td>\n",
       "      <td>Film &amp; Video</td>\n",
       "      <td>USD</td>\n",
       "      <td>2015-08-29 01:00:00</td>\n",
       "      <td>19500.0</td>\n",
       "      <td>2015-07-04 08:35:03</td>\n",
       "      <td>1283.0</td>\n",
       "      <td>canceled</td>\n",
       "      <td>14</td>\n",
       "      <td>US</td>\n",
       "      <td>1283.0</td>\n",
       "    </tr>\n",
       "    <tr>\n",
       "      <th>4</th>\n",
       "      <td>Restaurants</td>\n",
       "      <td>Food</td>\n",
       "      <td>USD</td>\n",
       "      <td>2016-04-01 13:38:27</td>\n",
       "      <td>50000.0</td>\n",
       "      <td>2016-02-26 13:38:27</td>\n",
       "      <td>52375.0</td>\n",
       "      <td>successful</td>\n",
       "      <td>224</td>\n",
       "      <td>US</td>\n",
       "      <td>52375.0</td>\n",
       "    </tr>\n",
       "  </tbody>\n",
       "</table>\n",
       "</div>"
      ],
      "text/plain": [
       "         category main_category currency             deadline     goal  \\\n",
       "0          Poetry    Publishing      GBP  2015-10-09 11:36:00   1000.0   \n",
       "1  Narrative Film  Film & Video      USD  2013-02-26 00:20:50  45000.0   \n",
       "2           Music         Music      USD  2012-04-16 04:24:11   5000.0   \n",
       "3    Film & Video  Film & Video      USD  2015-08-29 01:00:00  19500.0   \n",
       "4     Restaurants          Food      USD  2016-04-01 13:38:27  50000.0   \n",
       "\n",
       "              launched  pledged       state  backers country  usd pledged  \n",
       "0  2015-08-11 12:12:28      0.0      failed        0      GB          0.0  \n",
       "1  2013-01-12 00:20:50    220.0      failed        3      US        220.0  \n",
       "2  2012-03-17 03:24:11      1.0      failed        1      US          1.0  \n",
       "3  2015-07-04 08:35:03   1283.0    canceled       14      US       1283.0  \n",
       "4  2016-02-26 13:38:27  52375.0  successful      224      US      52375.0  "
      ]
     },
     "execution_count": 20,
     "metadata": {},
     "output_type": "execute_result"
    }
   ],
   "source": [
    "df.head()"
   ]
  },
  {
   "cell_type": "code",
   "execution_count": 21,
   "id": "97305b7a",
   "metadata": {},
   "outputs": [
    {
     "data": {
      "text/plain": [
       "<AxesSubplot:xlabel='state', ylabel='count'>"
      ]
     },
     "execution_count": 21,
     "metadata": {},
     "output_type": "execute_result"
    },
    {
     "data": {
      "image/png": "[encoded data removed]",
      "text/plain": [
       "<Figure size 864x432 with 1 Axes>"
      ]
     },
     "metadata": {},
     "output_type": "display_data"
    }
   ],
   "source": [
    "plt.figure(figsize=(12,6))\n",
    "sns.countplot(x='state',data=df)"
   ]
  },
  {
   "cell_type": "markdown",
   "id": "dee49d34",
   "metadata": {},
   "source": [
    "The above plot gives us two important conclusions:\n",
    "- There are more than two possible states for a given campaign. This means we will need to perform multiclass classification if we consider all the states in our model.\n",
    "- More campaigns failed than were successful."
   ]
  },
  {
   "cell_type": "code",
   "execution_count": 22,
   "id": "2d41a14d",
   "metadata": {},
   "outputs": [
    {
     "data": {
      "text/plain": [
       "failed        168221\n",
       "successful    113081\n",
       "canceled       32354\n",
       "live            4428\n",
       "undefined       3555\n",
       "suspended       1479\n",
       "Name: state, dtype: int64"
      ]
     },
     "execution_count": 22,
     "metadata": {},
     "output_type": "execute_result"
    }
   ],
   "source": [
    "df['state'].value_counts()"
   ]
  },
  {
   "cell_type": "markdown",
   "id": "08ea8b81",
   "metadata": {},
   "source": [
    "Let's calculate the percentage of values for states other than 'failed' and 'successful'."
   ]
  },
  {
   "cell_type": "code",
   "execution_count": 23,
   "id": "44fe8cda",
   "metadata": {},
   "outputs": [
    {
     "name": "stdout",
     "output_type": "stream",
     "text": [
      "41816\n"
     ]
    }
   ],
   "source": [
    "sum = 0\n",
    "for x in range(2,6):\n",
    "    sum = sum + df['state'].value_counts()[x]\n",
    "\n",
    "print(sum)"
   ]
  },
  {
   "cell_type": "code",
   "execution_count": 24,
   "id": "07c8892e",
   "metadata": {},
   "outputs": [
    {
     "data": {
      "text/plain": [
       "category         323118\n",
       "main_category    323118\n",
       "currency         323118\n",
       "deadline         323118\n",
       "goal             323118\n",
       "launched         323118\n",
       "pledged          323118\n",
       "state            323118\n",
       "backers          323118\n",
       "country          323118\n",
       "usd pledged      323118\n",
       "dtype: int64"
      ]
     },
     "execution_count": 24,
     "metadata": {},
     "output_type": "execute_result"
    }
   ],
   "source": [
    "df.count()"
   ]
  },
  {
   "cell_type": "code",
   "execution_count": 25,
   "id": "95cbbeee",
   "metadata": {},
   "outputs": [
    {
     "data": {
      "text/plain": [
       "323118"
      ]
     },
     "execution_count": 25,
     "metadata": {},
     "output_type": "execute_result"
    }
   ],
   "source": [
    "total = df.count()[0]\n",
    "total"
   ]
  },
  {
   "cell_type": "code",
   "execution_count": 26,
   "id": "49d60522",
   "metadata": {
    "scrolled": true
   },
   "outputs": [
    {
     "data": {
      "text/plain": [
       "12.941402212194925"
      ]
     },
     "execution_count": 26,
     "metadata": {},
     "output_type": "execute_result"
    }
   ],
   "source": [
    "sum/total * 100"
   ]
  },
  {
   "cell_type": "markdown",
   "id": "c5fefe15",
   "metadata": {},
   "source": [
    "Around 13% of the campaigns were neither successful nor failures. So, we can safely eliminate these states to make our model easier to implement (convert from multiclass to binary classification). The accuracy won't be affected too much in this case."
   ]
  },
  {
   "cell_type": "code",
   "execution_count": 27,
   "id": "ea374e12",
   "metadata": {},
   "outputs": [
    {
     "data": {
      "text/plain": [
       "0          True\n",
       "1          True\n",
       "2          True\n",
       "3         False\n",
       "4          True\n",
       "          ...  \n",
       "323745    False\n",
       "323746     True\n",
       "323747     True\n",
       "323748     True\n",
       "323749     True\n",
       "Name: state, Length: 323118, dtype: bool"
      ]
     },
     "execution_count": 27,
     "metadata": {},
     "output_type": "execute_result"
    }
   ],
   "source": [
    "required_states = ['failed', 'successful']\n",
    "df['state'].isin(required_states)"
   ]
  },
  {
   "cell_type": "code",
   "execution_count": 28,
   "id": "7d0983c6",
   "metadata": {},
   "outputs": [
    {
     "name": "stdout",
     "output_type": "stream",
     "text": [
      "<class 'pandas.core.frame.DataFrame'>\n",
      "Int64Index: 281302 entries, 0 to 323749\n",
      "Data columns (total 11 columns):\n",
      " #   Column         Non-Null Count   Dtype  \n",
      "---  ------         --------------   -----  \n",
      " 0   category       281302 non-null  object \n",
      " 1   main_category  281302 non-null  object \n",
      " 2   currency       281302 non-null  object \n",
      " 3   deadline       281302 non-null  object \n",
      " 4   goal           281302 non-null  float64\n",
      " 5   launched       281302 non-null  object \n",
      " 6   pledged        281302 non-null  float64\n",
      " 7   state          281302 non-null  object \n",
      " 8   backers        281302 non-null  int64  \n",
      " 9   country        281302 non-null  object \n",
      " 10  usd pledged    281302 non-null  float64\n",
      "dtypes: float64(3), int64(1), object(7)\n",
      "memory usage: 25.8+ MB\n"
     ]
    }
   ],
   "source": [
    "df = df[df['state'].isin(required_states)]\n",
    "df.info()"
   ]
  },
  {
   "cell_type": "code",
   "execution_count": 29,
   "id": "efa74bfd",
   "metadata": {},
   "outputs": [
    {
     "data": {
      "text/plain": [
       "Product Design    14516\n",
       "Documentary       13346\n",
       "Music             10872\n",
       "Shorts            10775\n",
       "Food               9517\n",
       "                  ...  \n",
       "Weaving              59\n",
       "Residencies          52\n",
       "Letterpress          34\n",
       "Chiptune             31\n",
       "Taxidermy             9\n",
       "Name: category, Length: 158, dtype: int64"
      ]
     },
     "execution_count": 29,
     "metadata": {},
     "output_type": "execute_result"
    }
   ],
   "source": [
    "df['category'].value_counts()"
   ]
  },
  {
   "cell_type": "markdown",
   "id": "1ed0fd11",
   "metadata": {},
   "source": [
    "#### Observation 1\n",
    "\n",
    "The top 5 categories in which campaigns are launched are:\n",
    "- Product Design\n",
    "- Documentary\n",
    "- Music\n",
    "- Shorts\n",
    "- Food\n",
    "\n",
    "Let's create a subset of our dataframe to visualise this data better."
   ]
  },
  {
   "cell_type": "code",
   "execution_count": 30,
   "id": "bc8dd811",
   "metadata": {},
   "outputs": [],
   "source": [
    "top_categories = ['Product Design', 'Documentary', 'Music', 'Shorts', 'Food']"
   ]
  },
  {
   "cell_type": "code",
   "execution_count": 31,
   "id": "2f799cef",
   "metadata": {},
   "outputs": [
    {
     "data": {
      "text/plain": [
       "0         False\n",
       "1         False\n",
       "2          True\n",
       "4         False\n",
       "5          True\n",
       "          ...  \n",
       "323743     True\n",
       "323746    False\n",
       "323747    False\n",
       "323748    False\n",
       "323749    False\n",
       "Name: category, Length: 281302, dtype: bool"
      ]
     },
     "execution_count": 31,
     "metadata": {},
     "output_type": "execute_result"
    }
   ],
   "source": [
    "df['category'].isin(top_categories)"
   ]
  },
  {
   "cell_type": "code",
   "execution_count": 32,
   "id": "266e8f39",
   "metadata": {},
   "outputs": [
    {
     "data": {
      "text/html": [
       "<div>\n",
       "<style scoped>\n",
       "    .dataframe tbody tr th:only-of-type {\n",
       "        vertical-align: middle;\n",
       "    }\n",
       "\n",
       "    .dataframe tbody tr th {\n",
       "        vertical-align: top;\n",
       "    }\n",
       "\n",
       "    .dataframe thead th {\n",
       "        text-align: right;\n",
       "    }\n",
       "</style>\n",
       "<table border=\"1\" class=\"dataframe\">\n",
       "  <thead>\n",
       "    <tr style=\"text-align: right;\">\n",
       "      <th></th>\n",
       "      <th>category</th>\n",
       "      <th>main_category</th>\n",
       "      <th>currency</th>\n",
       "      <th>deadline</th>\n",
       "      <th>goal</th>\n",
       "      <th>launched</th>\n",
       "      <th>pledged</th>\n",
       "      <th>state</th>\n",
       "      <th>backers</th>\n",
       "      <th>country</th>\n",
       "      <th>usd pledged</th>\n",
       "    </tr>\n",
       "  </thead>\n",
       "  <tbody>\n",
       "    <tr>\n",
       "      <th>2</th>\n",
       "      <td>Music</td>\n",
       "      <td>Music</td>\n",
       "      <td>USD</td>\n",
       "      <td>2012-04-16 04:24:11</td>\n",
       "      <td>5000.0</td>\n",
       "      <td>2012-03-17 03:24:11</td>\n",
       "      <td>1.0</td>\n",
       "      <td>failed</td>\n",
       "      <td>1</td>\n",
       "      <td>US</td>\n",
       "      <td>1.000000</td>\n",
       "    </tr>\n",
       "    <tr>\n",
       "      <th>5</th>\n",
       "      <td>Food</td>\n",
       "      <td>Food</td>\n",
       "      <td>USD</td>\n",
       "      <td>2014-12-21 18:30:44</td>\n",
       "      <td>1000.0</td>\n",
       "      <td>2014-12-01 18:30:44</td>\n",
       "      <td>1205.0</td>\n",
       "      <td>successful</td>\n",
       "      <td>16</td>\n",
       "      <td>US</td>\n",
       "      <td>1205.000000</td>\n",
       "    </tr>\n",
       "    <tr>\n",
       "      <th>16</th>\n",
       "      <td>Music</td>\n",
       "      <td>Music</td>\n",
       "      <td>USD</td>\n",
       "      <td>2012-08-17 14:11:32</td>\n",
       "      <td>250.0</td>\n",
       "      <td>2012-08-02 14:11:32</td>\n",
       "      <td>250.0</td>\n",
       "      <td>successful</td>\n",
       "      <td>7</td>\n",
       "      <td>US</td>\n",
       "      <td>250.000000</td>\n",
       "    </tr>\n",
       "    <tr>\n",
       "      <th>17</th>\n",
       "      <td>Food</td>\n",
       "      <td>Food</td>\n",
       "      <td>USD</td>\n",
       "      <td>2012-06-02 17:24:32</td>\n",
       "      <td>5000.0</td>\n",
       "      <td>2012-05-03 17:24:32</td>\n",
       "      <td>1781.0</td>\n",
       "      <td>failed</td>\n",
       "      <td>40</td>\n",
       "      <td>US</td>\n",
       "      <td>1781.000000</td>\n",
       "    </tr>\n",
       "    <tr>\n",
       "      <th>22</th>\n",
       "      <td>Music</td>\n",
       "      <td>Music</td>\n",
       "      <td>USD</td>\n",
       "      <td>2011-01-06 23:16:50</td>\n",
       "      <td>10000.0</td>\n",
       "      <td>2010-12-07 23:16:50</td>\n",
       "      <td>15827.0</td>\n",
       "      <td>successful</td>\n",
       "      <td>147</td>\n",
       "      <td>US</td>\n",
       "      <td>15827.000000</td>\n",
       "    </tr>\n",
       "    <tr>\n",
       "      <th>...</th>\n",
       "      <td>...</td>\n",
       "      <td>...</td>\n",
       "      <td>...</td>\n",
       "      <td>...</td>\n",
       "      <td>...</td>\n",
       "      <td>...</td>\n",
       "      <td>...</td>\n",
       "      <td>...</td>\n",
       "      <td>...</td>\n",
       "      <td>...</td>\n",
       "      <td>...</td>\n",
       "    </tr>\n",
       "    <tr>\n",
       "      <th>323709</th>\n",
       "      <td>Product Design</td>\n",
       "      <td>Design</td>\n",
       "      <td>USD</td>\n",
       "      <td>2014-03-03 22:00:47</td>\n",
       "      <td>33975.0</td>\n",
       "      <td>2014-02-01 22:00:47</td>\n",
       "      <td>5652.0</td>\n",
       "      <td>failed</td>\n",
       "      <td>13</td>\n",
       "      <td>US</td>\n",
       "      <td>5652.000000</td>\n",
       "    </tr>\n",
       "    <tr>\n",
       "      <th>323733</th>\n",
       "      <td>Product Design</td>\n",
       "      <td>Design</td>\n",
       "      <td>CHF</td>\n",
       "      <td>2015-09-04 18:00:47</td>\n",
       "      <td>80000.0</td>\n",
       "      <td>2015-07-06 18:00:47</td>\n",
       "      <td>0.0</td>\n",
       "      <td>failed</td>\n",
       "      <td>0</td>\n",
       "      <td>CH</td>\n",
       "      <td>0.000000</td>\n",
       "    </tr>\n",
       "    <tr>\n",
       "      <th>323735</th>\n",
       "      <td>Product Design</td>\n",
       "      <td>Design</td>\n",
       "      <td>USD</td>\n",
       "      <td>2015-12-15 06:59:00</td>\n",
       "      <td>3500.0</td>\n",
       "      <td>2015-11-23 07:33:14</td>\n",
       "      <td>6169.0</td>\n",
       "      <td>successful</td>\n",
       "      <td>120</td>\n",
       "      <td>US</td>\n",
       "      <td>6169.000000</td>\n",
       "    </tr>\n",
       "    <tr>\n",
       "      <th>323742</th>\n",
       "      <td>Documentary</td>\n",
       "      <td>Film &amp; Video</td>\n",
       "      <td>NOK</td>\n",
       "      <td>2015-04-28 21:30:33</td>\n",
       "      <td>20000.0</td>\n",
       "      <td>2015-03-29 21:30:33</td>\n",
       "      <td>21500.0</td>\n",
       "      <td>successful</td>\n",
       "      <td>36</td>\n",
       "      <td>NO</td>\n",
       "      <td>2698.974335</td>\n",
       "    </tr>\n",
       "    <tr>\n",
       "      <th>323743</th>\n",
       "      <td>Documentary</td>\n",
       "      <td>Film &amp; Video</td>\n",
       "      <td>USD</td>\n",
       "      <td>2012-03-16 03:31:10</td>\n",
       "      <td>1700.0</td>\n",
       "      <td>2012-02-15 04:31:10</td>\n",
       "      <td>25.0</td>\n",
       "      <td>failed</td>\n",
       "      <td>1</td>\n",
       "      <td>US</td>\n",
       "      <td>25.000000</td>\n",
       "    </tr>\n",
       "  </tbody>\n",
       "</table>\n",
       "<p>59026 rows × 11 columns</p>\n",
       "</div>"
      ],
      "text/plain": [
       "              category main_category currency             deadline     goal  \\\n",
       "2                Music         Music      USD  2012-04-16 04:24:11   5000.0   \n",
       "5                 Food          Food      USD  2014-12-21 18:30:44   1000.0   \n",
       "16               Music         Music      USD  2012-08-17 14:11:32    250.0   \n",
       "17                Food          Food      USD  2012-06-02 17:24:32   5000.0   \n",
       "22               Music         Music      USD  2011-01-06 23:16:50  10000.0   \n",
       "...                ...           ...      ...                  ...      ...   \n",
       "323709  Product Design        Design      USD  2014-03-03 22:00:47  33975.0   \n",
       "323733  Product Design        Design      CHF  2015-09-04 18:00:47  80000.0   \n",
       "323735  Product Design        Design      USD  2015-12-15 06:59:00   3500.0   \n",
       "323742     Documentary  Film & Video      NOK  2015-04-28 21:30:33  20000.0   \n",
       "323743     Documentary  Film & Video      USD  2012-03-16 03:31:10   1700.0   \n",
       "\n",
       "                   launched  pledged       state  backers country  \\\n",
       "2       2012-03-17 03:24:11      1.0      failed        1      US   \n",
       "5       2014-12-01 18:30:44   1205.0  successful       16      US   \n",
       "16      2012-08-02 14:11:32    250.0  successful        7      US   \n",
       "17      2012-05-03 17:24:32   1781.0      failed       40      US   \n",
       "22      2010-12-07 23:16:50  15827.0  successful      147      US   \n",
       "...                     ...      ...         ...      ...     ...   \n",
       "323709  2014-02-01 22:00:47   5652.0      failed       13      US   \n",
       "323733  2015-07-06 18:00:47      0.0      failed        0      CH   \n",
       "323735  2015-11-23 07:33:14   6169.0  successful      120      US   \n",
       "323742  2015-03-29 21:30:33  21500.0  successful       36      NO   \n",
       "323743  2012-02-15 04:31:10     25.0      failed        1      US   \n",
       "\n",
       "         usd pledged  \n",
       "2           1.000000  \n",
       "5        1205.000000  \n",
       "16        250.000000  \n",
       "17       1781.000000  \n",
       "22      15827.000000  \n",
       "...              ...  \n",
       "323709   5652.000000  \n",
       "323733      0.000000  \n",
       "323735   6169.000000  \n",
       "323742   2698.974335  \n",
       "323743     25.000000  \n",
       "\n",
       "[59026 rows x 11 columns]"
      ]
     },
     "execution_count": 32,
     "metadata": {},
     "output_type": "execute_result"
    }
   ],
   "source": [
    "top_categories_df = df[df['category'].isin(top_categories)]\n",
    "top_categories_df"
   ]
  },
  {
   "cell_type": "code",
   "execution_count": 33,
   "id": "b1aed2c3",
   "metadata": {},
   "outputs": [
    {
     "data": {
      "text/plain": [
       "<AxesSubplot:xlabel='category', ylabel='Count'>"
      ]
     },
     "execution_count": 33,
     "metadata": {},
     "output_type": "execute_result"
    },
    {
     "data": {
      "image/png": "[encoded data removed]",
      "text/plain": [
       "<Figure size 576x432 with 1 Axes>"
      ]
     },
     "metadata": {},
     "output_type": "display_data"
    }
   ],
   "source": [
    "plt.figure(figsize=(8,6))\n",
    "sns.histplot(data=top_categories_df, x='category')"
   ]
  },
  {
   "cell_type": "markdown",
   "id": "5a3578d1",
   "metadata": {},
   "source": [
    "Let's see if there is any change in the top categories based on the success or failure of a campaign."
   ]
  },
  {
   "cell_type": "code",
   "execution_count": 34,
   "id": "2e97185e",
   "metadata": {},
   "outputs": [
    {
     "data": {
      "text/plain": [
       "<AxesSubplot:xlabel='category', ylabel='Count'>"
      ]
     },
     "execution_count": 34,
     "metadata": {},
     "output_type": "execute_result"
    },
    {
     "data": {
      "image/png": "[encoded data removed]",
      "text/plain": [
       "<Figure size 576x432 with 1 Axes>"
      ]
     },
     "metadata": {},
     "output_type": "display_data"
    }
   ],
   "source": [
    "plt.figure(figsize=(8,6))\n",
    "sns.histplot(data=top_categories_df, x='category', hue='state')"
   ]
  },
  {
   "cell_type": "markdown",
   "id": "8d8bfb42",
   "metadata": {},
   "source": [
    "#### Observation 2\n",
    "We get an interesting observation here. More campaigns were successes than failures for 'Shorts' and 'Music' categories.\n",
    "\n",
    "Let's now plot histograms for the 'main_category' column and see if we get any more useful insights."
   ]
  },
  {
   "cell_type": "code",
   "execution_count": 35,
   "id": "7e16c7d1",
   "metadata": {},
   "outputs": [
    {
     "data": {
      "text/plain": [
       "<AxesSubplot:xlabel='main_category', ylabel='Count'>"
      ]
     },
     "execution_count": 35,
     "metadata": {},
     "output_type": "execute_result"
    },
    {
     "data": {
      "image/png": "[encoded data removed]",
      "text/plain": [
       "<Figure size 1296x432 with 1 Axes>"
      ]
     },
     "metadata": {},
     "output_type": "display_data"
    }
   ],
   "source": [
    "plt.figure(figsize=(18,6))\n",
    "sns.histplot(data=df, x='main_category')"
   ]
  },
  {
   "cell_type": "markdown",
   "id": "09bb3ef3",
   "metadata": {},
   "source": [
    "#### Observation 3\n",
    "'Films and Video' and 'Music' are the dominant main categories for campaign launches. "
   ]
  },
  {
   "cell_type": "code",
   "execution_count": 36,
   "id": "81e2aeca",
   "metadata": {
    "scrolled": false
   },
   "outputs": [
    {
     "data": {
      "text/plain": [
       "<AxesSubplot:xlabel='main_category', ylabel='Count'>"
      ]
     },
     "execution_count": 36,
     "metadata": {},
     "output_type": "execute_result"
    },
    {
     "data": {
      "image/png": "[encoded data removed]",
      "text/plain": [
       "<Figure size 1296x432 with 1 Axes>"
      ]
     },
     "metadata": {},
     "output_type": "display_data"
    }
   ],
   "source": [
    "plt.figure(figsize=(18,6))\n",
    "sns.histplot(data=df, x='main_category', hue='state')"
   ]
  },
  {
   "cell_type": "markdown",
   "id": "d59859b8",
   "metadata": {},
   "source": [
    "#### Observation 4\n",
    "'Music' and 'Theater' are two categories where there relatively more campaigns were successful as compared to those which failed.\n",
    "\n",
    "Finally, for visualising categorical variables, let's see how the campaigns performed according to the countries in which they were launched."
   ]
  },
  {
   "cell_type": "code",
   "execution_count": 37,
   "id": "4bd580a6",
   "metadata": {},
   "outputs": [
    {
     "data": {
      "text/plain": [
       "<AxesSubplot:xlabel='country', ylabel='Count'>"
      ]
     },
     "execution_count": 37,
     "metadata": {},
     "output_type": "execute_result"
    },
    {
     "data": {
      "image/png": "[encoded data removed]",
      "text/plain": [
       "<Figure size 864x432 with 1 Axes>"
      ]
     },
     "metadata": {},
     "output_type": "display_data"
    }
   ],
   "source": [
    "plt.figure(figsize=(12,6))\n",
    "sns.histplot(data=df, x='country')"
   ]
  },
  {
   "cell_type": "markdown",
   "id": "906a657d",
   "metadata": {},
   "source": [
    "#### Observation 5\n",
    "A very large proportion of the campaigns were launched in the US."
   ]
  },
  {
   "cell_type": "code",
   "execution_count": 38,
   "id": "293417f4",
   "metadata": {},
   "outputs": [
    {
     "data": {
      "text/plain": [
       "<AxesSubplot:xlabel='country', ylabel='Count'>"
      ]
     },
     "execution_count": 38,
     "metadata": {},
     "output_type": "execute_result"
    },
    {
     "data": {
      "image/png": "[encoded data removed]",
      "text/plain": [
       "<Figure size 864x432 with 1 Axes>"
      ]
     },
     "metadata": {},
     "output_type": "display_data"
    }
   ],
   "source": [
    "plt.figure(figsize=(12,6))\n",
    "sns.histplot(data=df, x='country', hue='state')"
   ]
  },
  {
   "cell_type": "markdown",
   "id": "eec04a13",
   "metadata": {},
   "source": [
    "Let's now see the correlations between the various numeric variables."
   ]
  },
  {
   "cell_type": "code",
   "execution_count": 39,
   "id": "ce785d39",
   "metadata": {},
   "outputs": [
    {
     "data": {
      "text/html": [
       "<div>\n",
       "<style scoped>\n",
       "    .dataframe tbody tr th:only-of-type {\n",
       "        vertical-align: middle;\n",
       "    }\n",
       "\n",
       "    .dataframe tbody tr th {\n",
       "        vertical-align: top;\n",
       "    }\n",
       "\n",
       "    .dataframe thead th {\n",
       "        text-align: right;\n",
       "    }\n",
       "</style>\n",
       "<table border=\"1\" class=\"dataframe\">\n",
       "  <thead>\n",
       "    <tr style=\"text-align: right;\">\n",
       "      <th></th>\n",
       "      <th>goal</th>\n",
       "      <th>pledged</th>\n",
       "      <th>backers</th>\n",
       "      <th>usd pledged</th>\n",
       "    </tr>\n",
       "  </thead>\n",
       "  <tbody>\n",
       "    <tr>\n",
       "      <th>goal</th>\n",
       "      <td>1.000000</td>\n",
       "      <td>0.007930</td>\n",
       "      <td>0.006090</td>\n",
       "      <td>0.007615</td>\n",
       "    </tr>\n",
       "    <tr>\n",
       "      <th>pledged</th>\n",
       "      <td>0.007930</td>\n",
       "      <td>1.000000</td>\n",
       "      <td>0.749335</td>\n",
       "      <td>0.948961</td>\n",
       "    </tr>\n",
       "    <tr>\n",
       "      <th>backers</th>\n",
       "      <td>0.006090</td>\n",
       "      <td>0.749335</td>\n",
       "      <td>1.000000</td>\n",
       "      <td>0.716777</td>\n",
       "    </tr>\n",
       "    <tr>\n",
       "      <th>usd pledged</th>\n",
       "      <td>0.007615</td>\n",
       "      <td>0.948961</td>\n",
       "      <td>0.716777</td>\n",
       "      <td>1.000000</td>\n",
       "    </tr>\n",
       "  </tbody>\n",
       "</table>\n",
       "</div>"
      ],
      "text/plain": [
       "                 goal   pledged   backers  usd pledged\n",
       "goal         1.000000  0.007930  0.006090     0.007615\n",
       "pledged      0.007930  1.000000  0.749335     0.948961\n",
       "backers      0.006090  0.749335  1.000000     0.716777\n",
       "usd pledged  0.007615  0.948961  0.716777     1.000000"
      ]
     },
     "execution_count": 39,
     "metadata": {},
     "output_type": "execute_result"
    }
   ],
   "source": [
    "df.corr()"
   ]
  },
  {
   "cell_type": "code",
   "execution_count": 40,
   "id": "bc05918f",
   "metadata": {},
   "outputs": [
    {
     "data": {
      "text/plain": [
       "<AxesSubplot:>"
      ]
     },
     "execution_count": 40,
     "metadata": {},
     "output_type": "execute_result"
    },
    {
     "data": {
      "image/png": "[encoded data removed]",
      "text/plain": [
       "<Figure size 864x432 with 2 Axes>"
      ]
     },
     "metadata": {},
     "output_type": "display_data"
    }
   ],
   "source": [
    "plt.figure(figsize=(12,6))\n",
    "sns.heatmap(df.corr(), annot=True)"
   ]
  },
  {
   "cell_type": "markdown",
   "id": "1e9136ff",
   "metadata": {},
   "source": [
    "#### Observation 6\n",
    "- There is a very high correlation between the total amount of money pledged and the amount of money pledged in dollars, which is self-explanatory.\n",
    "- An interestingly high value of correlation is between the amount of money pledged and the number of backers."
   ]
  },
  {
   "cell_type": "markdown",
   "id": "ecd53df5",
   "metadata": {},
   "source": [
    "---\n",
    "### Feature engineering \n",
    "We will now do some feature engineering on the 'deadline' column to extract the month and year for each timestamp."
   ]
  },
  {
   "cell_type": "code",
   "execution_count": 41,
   "id": "95fdd942",
   "metadata": {},
   "outputs": [
    {
     "data": {
      "text/plain": [
       "'2015-10-09 11:36:00'"
      ]
     },
     "execution_count": 41,
     "metadata": {},
     "output_type": "execute_result"
    }
   ],
   "source": [
    "df['deadline'][0]"
   ]
  },
  {
   "cell_type": "code",
   "execution_count": 42,
   "id": "f1fc5b39",
   "metadata": {},
   "outputs": [
    {
     "data": {
      "text/plain": [
       "'2015-10-09'"
      ]
     },
     "execution_count": 42,
     "metadata": {},
     "output_type": "execute_result"
    }
   ],
   "source": [
    "df['deadline'][0].split()[0]"
   ]
  },
  {
   "cell_type": "code",
   "execution_count": 43,
   "id": "294bc6d3",
   "metadata": {},
   "outputs": [
    {
     "data": {
      "text/plain": [
       "'2015'"
      ]
     },
     "execution_count": 43,
     "metadata": {},
     "output_type": "execute_result"
    }
   ],
   "source": [
    "# Extracting the year from the deadline\n",
    "df['deadline'][0].split()[0].split('-')[0]"
   ]
  },
  {
   "cell_type": "code",
   "execution_count": 44,
   "id": "26f96684",
   "metadata": {},
   "outputs": [
    {
     "data": {
      "text/plain": [
       "'10'"
      ]
     },
     "execution_count": 44,
     "metadata": {},
     "output_type": "execute_result"
    }
   ],
   "source": [
    "# Extracting the month from the deadline\n",
    "df['deadline'][0].split()[0].split('-')[1]"
   ]
  },
  {
   "cell_type": "code",
   "execution_count": 45,
   "id": "717aea63",
   "metadata": {},
   "outputs": [
    {
     "data": {
      "text/plain": [
       "0    2015\n",
       "1    2013\n",
       "2    2012\n",
       "4    2016\n",
       "5    2014\n",
       "Name: deadline_year, dtype: object"
      ]
     },
     "execution_count": 45,
     "metadata": {},
     "output_type": "execute_result"
    }
   ],
   "source": [
    "df['deadline_year'] = df['deadline'].apply(lambda x: x.split()[0].split('-')[0])\n",
    "df['deadline_year'].head()"
   ]
  },
  {
   "cell_type": "code",
   "execution_count": 46,
   "id": "c8fdffca",
   "metadata": {},
   "outputs": [
    {
     "data": {
      "text/plain": [
       "0    10\n",
       "1    02\n",
       "2    04\n",
       "4    04\n",
       "5    12\n",
       "Name: deadline_month, dtype: object"
      ]
     },
     "execution_count": 46,
     "metadata": {},
     "output_type": "execute_result"
    }
   ],
   "source": [
    "df['deadline_month'] = df['deadline'].apply(lambda x: x.split()[0].split('-')[1])\n",
    "df['deadline_month'].head()"
   ]
  },
  {
   "cell_type": "code",
   "execution_count": 47,
   "id": "511e07fc",
   "metadata": {},
   "outputs": [
    {
     "data": {
      "text/html": [
       "<div>\n",
       "<style scoped>\n",
       "    .dataframe tbody tr th:only-of-type {\n",
       "        vertical-align: middle;\n",
       "    }\n",
       "\n",
       "    .dataframe tbody tr th {\n",
       "        vertical-align: top;\n",
       "    }\n",
       "\n",
       "    .dataframe thead th {\n",
       "        text-align: right;\n",
       "    }\n",
       "</style>\n",
       "<table border=\"1\" class=\"dataframe\">\n",
       "  <thead>\n",
       "    <tr style=\"text-align: right;\">\n",
       "      <th></th>\n",
       "      <th>category</th>\n",
       "      <th>main_category</th>\n",
       "      <th>currency</th>\n",
       "      <th>deadline</th>\n",
       "      <th>goal</th>\n",
       "      <th>launched</th>\n",
       "      <th>pledged</th>\n",
       "      <th>state</th>\n",
       "      <th>backers</th>\n",
       "      <th>country</th>\n",
       "      <th>usd pledged</th>\n",
       "      <th>deadline_year</th>\n",
       "      <th>deadline_month</th>\n",
       "    </tr>\n",
       "  </thead>\n",
       "  <tbody>\n",
       "    <tr>\n",
       "      <th>0</th>\n",
       "      <td>Poetry</td>\n",
       "      <td>Publishing</td>\n",
       "      <td>GBP</td>\n",
       "      <td>2015-10-09 11:36:00</td>\n",
       "      <td>1000.0</td>\n",
       "      <td>2015-08-11 12:12:28</td>\n",
       "      <td>0.0</td>\n",
       "      <td>failed</td>\n",
       "      <td>0</td>\n",
       "      <td>GB</td>\n",
       "      <td>0.0</td>\n",
       "      <td>2015</td>\n",
       "      <td>10</td>\n",
       "    </tr>\n",
       "    <tr>\n",
       "      <th>1</th>\n",
       "      <td>Narrative Film</td>\n",
       "      <td>Film &amp; Video</td>\n",
       "      <td>USD</td>\n",
       "      <td>2013-02-26 00:20:50</td>\n",
       "      <td>45000.0</td>\n",
       "      <td>2013-01-12 00:20:50</td>\n",
       "      <td>220.0</td>\n",
       "      <td>failed</td>\n",
       "      <td>3</td>\n",
       "      <td>US</td>\n",
       "      <td>220.0</td>\n",
       "      <td>2013</td>\n",
       "      <td>02</td>\n",
       "    </tr>\n",
       "    <tr>\n",
       "      <th>2</th>\n",
       "      <td>Music</td>\n",
       "      <td>Music</td>\n",
       "      <td>USD</td>\n",
       "      <td>2012-04-16 04:24:11</td>\n",
       "      <td>5000.0</td>\n",
       "      <td>2012-03-17 03:24:11</td>\n",
       "      <td>1.0</td>\n",
       "      <td>failed</td>\n",
       "      <td>1</td>\n",
       "      <td>US</td>\n",
       "      <td>1.0</td>\n",
       "      <td>2012</td>\n",
       "      <td>04</td>\n",
       "    </tr>\n",
       "    <tr>\n",
       "      <th>4</th>\n",
       "      <td>Restaurants</td>\n",
       "      <td>Food</td>\n",
       "      <td>USD</td>\n",
       "      <td>2016-04-01 13:38:27</td>\n",
       "      <td>50000.0</td>\n",
       "      <td>2016-02-26 13:38:27</td>\n",
       "      <td>52375.0</td>\n",
       "      <td>successful</td>\n",
       "      <td>224</td>\n",
       "      <td>US</td>\n",
       "      <td>52375.0</td>\n",
       "      <td>2016</td>\n",
       "      <td>04</td>\n",
       "    </tr>\n",
       "    <tr>\n",
       "      <th>5</th>\n",
       "      <td>Food</td>\n",
       "      <td>Food</td>\n",
       "      <td>USD</td>\n",
       "      <td>2014-12-21 18:30:44</td>\n",
       "      <td>1000.0</td>\n",
       "      <td>2014-12-01 18:30:44</td>\n",
       "      <td>1205.0</td>\n",
       "      <td>successful</td>\n",
       "      <td>16</td>\n",
       "      <td>US</td>\n",
       "      <td>1205.0</td>\n",
       "      <td>2014</td>\n",
       "      <td>12</td>\n",
       "    </tr>\n",
       "  </tbody>\n",
       "</table>\n",
       "</div>"
      ],
      "text/plain": [
       "         category main_category currency             deadline     goal  \\\n",
       "0          Poetry    Publishing      GBP  2015-10-09 11:36:00   1000.0   \n",
       "1  Narrative Film  Film & Video      USD  2013-02-26 00:20:50  45000.0   \n",
       "2           Music         Music      USD  2012-04-16 04:24:11   5000.0   \n",
       "4     Restaurants          Food      USD  2016-04-01 13:38:27  50000.0   \n",
       "5            Food          Food      USD  2014-12-21 18:30:44   1000.0   \n",
       "\n",
       "              launched  pledged       state  backers country  usd pledged  \\\n",
       "0  2015-08-11 12:12:28      0.0      failed        0      GB          0.0   \n",
       "1  2013-01-12 00:20:50    220.0      failed        3      US        220.0   \n",
       "2  2012-03-17 03:24:11      1.0      failed        1      US          1.0   \n",
       "4  2016-02-26 13:38:27  52375.0  successful      224      US      52375.0   \n",
       "5  2014-12-01 18:30:44   1205.0  successful       16      US       1205.0   \n",
       "\n",
       "  deadline_year deadline_month  \n",
       "0          2015             10  \n",
       "1          2013             02  \n",
       "2          2012             04  \n",
       "4          2016             04  \n",
       "5          2014             12  "
      ]
     },
     "execution_count": 47,
     "metadata": {},
     "output_type": "execute_result"
    }
   ],
   "source": [
    "df.head()"
   ]
  },
  {
   "cell_type": "markdown",
   "id": "c52c5f1f",
   "metadata": {},
   "source": [
    "Let's perform similar steps for extracting the month and year for each timestamp in the 'launched' column."
   ]
  },
  {
   "cell_type": "code",
   "execution_count": 48,
   "id": "dc6a1f7c",
   "metadata": {},
   "outputs": [
    {
     "data": {
      "text/plain": [
       "0    2015\n",
       "1    2013\n",
       "2    2012\n",
       "4    2016\n",
       "5    2014\n",
       "Name: launched_year, dtype: object"
      ]
     },
     "execution_count": 48,
     "metadata": {},
     "output_type": "execute_result"
    }
   ],
   "source": [
    "df['launched_year'] = df['launched'].apply(lambda x: x.split()[0].split('-')[0])\n",
    "df['launched_year'].head()"
   ]
  },
  {
   "cell_type": "code",
   "execution_count": 49,
   "id": "b9d3c256",
   "metadata": {},
   "outputs": [
    {
     "data": {
      "text/plain": [
       "0    08\n",
       "1    01\n",
       "2    03\n",
       "4    02\n",
       "5    12\n",
       "Name: launched_month, dtype: object"
      ]
     },
     "execution_count": 49,
     "metadata": {},
     "output_type": "execute_result"
    }
   ],
   "source": [
    "df['launched_month'] = df['launched'].apply(lambda x: x.split()[0].split('-')[1])\n",
    "df['launched_month'].head()"
   ]
  },
  {
   "cell_type": "code",
   "execution_count": 50,
   "id": "0b211604",
   "metadata": {},
   "outputs": [
    {
     "data": {
      "text/html": [
       "<div>\n",
       "<style scoped>\n",
       "    .dataframe tbody tr th:only-of-type {\n",
       "        vertical-align: middle;\n",
       "    }\n",
       "\n",
       "    .dataframe tbody tr th {\n",
       "        vertical-align: top;\n",
       "    }\n",
       "\n",
       "    .dataframe thead th {\n",
       "        text-align: right;\n",
       "    }\n",
       "</style>\n",
       "<table border=\"1\" class=\"dataframe\">\n",
       "  <thead>\n",
       "    <tr style=\"text-align: right;\">\n",
       "      <th></th>\n",
       "      <th>category</th>\n",
       "      <th>main_category</th>\n",
       "      <th>currency</th>\n",
       "      <th>deadline</th>\n",
       "      <th>goal</th>\n",
       "      <th>launched</th>\n",
       "      <th>pledged</th>\n",
       "      <th>state</th>\n",
       "      <th>backers</th>\n",
       "      <th>country</th>\n",
       "      <th>usd pledged</th>\n",
       "      <th>deadline_year</th>\n",
       "      <th>deadline_month</th>\n",
       "      <th>launched_year</th>\n",
       "      <th>launched_month</th>\n",
       "    </tr>\n",
       "  </thead>\n",
       "  <tbody>\n",
       "    <tr>\n",
       "      <th>0</th>\n",
       "      <td>Poetry</td>\n",
       "      <td>Publishing</td>\n",
       "      <td>GBP</td>\n",
       "      <td>2015-10-09 11:36:00</td>\n",
       "      <td>1000.0</td>\n",
       "      <td>2015-08-11 12:12:28</td>\n",
       "      <td>0.0</td>\n",
       "      <td>failed</td>\n",
       "      <td>0</td>\n",
       "      <td>GB</td>\n",
       "      <td>0.0</td>\n",
       "      <td>2015</td>\n",
       "      <td>10</td>\n",
       "      <td>2015</td>\n",
       "      <td>08</td>\n",
       "    </tr>\n",
       "    <tr>\n",
       "      <th>1</th>\n",
       "      <td>Narrative Film</td>\n",
       "      <td>Film &amp; Video</td>\n",
       "      <td>USD</td>\n",
       "      <td>2013-02-26 00:20:50</td>\n",
       "      <td>45000.0</td>\n",
       "      <td>2013-01-12 00:20:50</td>\n",
       "      <td>220.0</td>\n",
       "      <td>failed</td>\n",
       "      <td>3</td>\n",
       "      <td>US</td>\n",
       "      <td>220.0</td>\n",
       "      <td>2013</td>\n",
       "      <td>02</td>\n",
       "      <td>2013</td>\n",
       "      <td>01</td>\n",
       "    </tr>\n",
       "    <tr>\n",
       "      <th>2</th>\n",
       "      <td>Music</td>\n",
       "      <td>Music</td>\n",
       "      <td>USD</td>\n",
       "      <td>2012-04-16 04:24:11</td>\n",
       "      <td>5000.0</td>\n",
       "      <td>2012-03-17 03:24:11</td>\n",
       "      <td>1.0</td>\n",
       "      <td>failed</td>\n",
       "      <td>1</td>\n",
       "      <td>US</td>\n",
       "      <td>1.0</td>\n",
       "      <td>2012</td>\n",
       "      <td>04</td>\n",
       "      <td>2012</td>\n",
       "      <td>03</td>\n",
       "    </tr>\n",
       "    <tr>\n",
       "      <th>4</th>\n",
       "      <td>Restaurants</td>\n",
       "      <td>Food</td>\n",
       "      <td>USD</td>\n",
       "      <td>2016-04-01 13:38:27</td>\n",
       "      <td>50000.0</td>\n",
       "      <td>2016-02-26 13:38:27</td>\n",
       "      <td>52375.0</td>\n",
       "      <td>successful</td>\n",
       "      <td>224</td>\n",
       "      <td>US</td>\n",
       "      <td>52375.0</td>\n",
       "      <td>2016</td>\n",
       "      <td>04</td>\n",
       "      <td>2016</td>\n",
       "      <td>02</td>\n",
       "    </tr>\n",
       "    <tr>\n",
       "      <th>5</th>\n",
       "      <td>Food</td>\n",
       "      <td>Food</td>\n",
       "      <td>USD</td>\n",
       "      <td>2014-12-21 18:30:44</td>\n",
       "      <td>1000.0</td>\n",
       "      <td>2014-12-01 18:30:44</td>\n",
       "      <td>1205.0</td>\n",
       "      <td>successful</td>\n",
       "      <td>16</td>\n",
       "      <td>US</td>\n",
       "      <td>1205.0</td>\n",
       "      <td>2014</td>\n",
       "      <td>12</td>\n",
       "      <td>2014</td>\n",
       "      <td>12</td>\n",
       "    </tr>\n",
       "  </tbody>\n",
       "</table>\n",
       "</div>"
      ],
      "text/plain": [
       "         category main_category currency             deadline     goal  \\\n",
       "0          Poetry    Publishing      GBP  2015-10-09 11:36:00   1000.0   \n",
       "1  Narrative Film  Film & Video      USD  2013-02-26 00:20:50  45000.0   \n",
       "2           Music         Music      USD  2012-04-16 04:24:11   5000.0   \n",
       "4     Restaurants          Food      USD  2016-04-01 13:38:27  50000.0   \n",
       "5            Food          Food      USD  2014-12-21 18:30:44   1000.0   \n",
       "\n",
       "              launched  pledged       state  backers country  usd pledged  \\\n",
       "0  2015-08-11 12:12:28      0.0      failed        0      GB          0.0   \n",
       "1  2013-01-12 00:20:50    220.0      failed        3      US        220.0   \n",
       "2  2012-03-17 03:24:11      1.0      failed        1      US          1.0   \n",
       "4  2016-02-26 13:38:27  52375.0  successful      224      US      52375.0   \n",
       "5  2014-12-01 18:30:44   1205.0  successful       16      US       1205.0   \n",
       "\n",
       "  deadline_year deadline_month launched_year launched_month  \n",
       "0          2015             10          2015             08  \n",
       "1          2013             02          2013             01  \n",
       "2          2012             04          2012             03  \n",
       "4          2016             04          2016             02  \n",
       "5          2014             12          2014             12  "
      ]
     },
     "execution_count": 50,
     "metadata": {},
     "output_type": "execute_result"
    }
   ],
   "source": [
    "df.head()"
   ]
  },
  {
   "cell_type": "markdown",
   "id": "2dd64d08",
   "metadata": {},
   "source": [
    "Let's now remove the 'deadline' and 'launched' columns."
   ]
  },
  {
   "cell_type": "code",
   "execution_count": 51,
   "id": "fdaf56d6",
   "metadata": {},
   "outputs": [
    {
     "data": {
      "text/html": [
       "<div>\n",
       "<style scoped>\n",
       "    .dataframe tbody tr th:only-of-type {\n",
       "        vertical-align: middle;\n",
       "    }\n",
       "\n",
       "    .dataframe tbody tr th {\n",
       "        vertical-align: top;\n",
       "    }\n",
       "\n",
       "    .dataframe thead th {\n",
       "        text-align: right;\n",
       "    }\n",
       "</style>\n",
       "<table border=\"1\" class=\"dataframe\">\n",
       "  <thead>\n",
       "    <tr style=\"text-align: right;\">\n",
       "      <th></th>\n",
       "      <th>category</th>\n",
       "      <th>main_category</th>\n",
       "      <th>currency</th>\n",
       "      <th>goal</th>\n",
       "      <th>pledged</th>\n",
       "      <th>state</th>\n",
       "      <th>backers</th>\n",
       "      <th>country</th>\n",
       "      <th>usd pledged</th>\n",
       "      <th>deadline_year</th>\n",
       "      <th>deadline_month</th>\n",
       "      <th>launched_year</th>\n",
       "      <th>launched_month</th>\n",
       "    </tr>\n",
       "  </thead>\n",
       "  <tbody>\n",
       "    <tr>\n",
       "      <th>0</th>\n",
       "      <td>Poetry</td>\n",
       "      <td>Publishing</td>\n",
       "      <td>GBP</td>\n",
       "      <td>1000.0</td>\n",
       "      <td>0.0</td>\n",
       "      <td>failed</td>\n",
       "      <td>0</td>\n",
       "      <td>GB</td>\n",
       "      <td>0.0</td>\n",
       "      <td>2015</td>\n",
       "      <td>10</td>\n",
       "      <td>2015</td>\n",
       "      <td>08</td>\n",
       "    </tr>\n",
       "    <tr>\n",
       "      <th>1</th>\n",
       "      <td>Narrative Film</td>\n",
       "      <td>Film &amp; Video</td>\n",
       "      <td>USD</td>\n",
       "      <td>45000.0</td>\n",
       "      <td>220.0</td>\n",
       "      <td>failed</td>\n",
       "      <td>3</td>\n",
       "      <td>US</td>\n",
       "      <td>220.0</td>\n",
       "      <td>2013</td>\n",
       "      <td>02</td>\n",
       "      <td>2013</td>\n",
       "      <td>01</td>\n",
       "    </tr>\n",
       "    <tr>\n",
       "      <th>2</th>\n",
       "      <td>Music</td>\n",
       "      <td>Music</td>\n",
       "      <td>USD</td>\n",
       "      <td>5000.0</td>\n",
       "      <td>1.0</td>\n",
       "      <td>failed</td>\n",
       "      <td>1</td>\n",
       "      <td>US</td>\n",
       "      <td>1.0</td>\n",
       "      <td>2012</td>\n",
       "      <td>04</td>\n",
       "      <td>2012</td>\n",
       "      <td>03</td>\n",
       "    </tr>\n",
       "    <tr>\n",
       "      <th>4</th>\n",
       "      <td>Restaurants</td>\n",
       "      <td>Food</td>\n",
       "      <td>USD</td>\n",
       "      <td>50000.0</td>\n",
       "      <td>52375.0</td>\n",
       "      <td>successful</td>\n",
       "      <td>224</td>\n",
       "      <td>US</td>\n",
       "      <td>52375.0</td>\n",
       "      <td>2016</td>\n",
       "      <td>04</td>\n",
       "      <td>2016</td>\n",
       "      <td>02</td>\n",
       "    </tr>\n",
       "    <tr>\n",
       "      <th>5</th>\n",
       "      <td>Food</td>\n",
       "      <td>Food</td>\n",
       "      <td>USD</td>\n",
       "      <td>1000.0</td>\n",
       "      <td>1205.0</td>\n",
       "      <td>successful</td>\n",
       "      <td>16</td>\n",
       "      <td>US</td>\n",
       "      <td>1205.0</td>\n",
       "      <td>2014</td>\n",
       "      <td>12</td>\n",
       "      <td>2014</td>\n",
       "      <td>12</td>\n",
       "    </tr>\n",
       "  </tbody>\n",
       "</table>\n",
       "</div>"
      ],
      "text/plain": [
       "         category main_category currency     goal  pledged       state  \\\n",
       "0          Poetry    Publishing      GBP   1000.0      0.0      failed   \n",
       "1  Narrative Film  Film & Video      USD  45000.0    220.0      failed   \n",
       "2           Music         Music      USD   5000.0      1.0      failed   \n",
       "4     Restaurants          Food      USD  50000.0  52375.0  successful   \n",
       "5            Food          Food      USD   1000.0   1205.0  successful   \n",
       "\n",
       "   backers country  usd pledged deadline_year deadline_month launched_year  \\\n",
       "0        0      GB          0.0          2015             10          2015   \n",
       "1        3      US        220.0          2013             02          2013   \n",
       "2        1      US          1.0          2012             04          2012   \n",
       "4      224      US      52375.0          2016             04          2016   \n",
       "5       16      US       1205.0          2014             12          2014   \n",
       "\n",
       "  launched_month  \n",
       "0             08  \n",
       "1             01  \n",
       "2             03  \n",
       "4             02  \n",
       "5             12  "
      ]
     },
     "execution_count": 51,
     "metadata": {},
     "output_type": "execute_result"
    }
   ],
   "source": [
    "df.drop(['deadline', 'launched'], axis=1, inplace=True)\n",
    "df.head()"
   ]
  },
  {
   "cell_type": "markdown",
   "id": "dc960165",
   "metadata": {},
   "source": [
    "---\n",
    "### Exploratory data analysis - II\n",
    "Let's now see if the year or month in which a campaign is launched or has a deadline makes a difference to the success or failure of the campaign. Let's begin with the deadline years and months."
   ]
  },
  {
   "cell_type": "code",
   "execution_count": 52,
   "id": "540e9c50",
   "metadata": {},
   "outputs": [
    {
     "data": {
      "text/html": [
       "<div>\n",
       "<style scoped>\n",
       "    .dataframe tbody tr th:only-of-type {\n",
       "        vertical-align: middle;\n",
       "    }\n",
       "\n",
       "    .dataframe tbody tr th {\n",
       "        vertical-align: top;\n",
       "    }\n",
       "\n",
       "    .dataframe thead th {\n",
       "        text-align: right;\n",
       "    }\n",
       "</style>\n",
       "<table border=\"1\" class=\"dataframe\">\n",
       "  <thead>\n",
       "    <tr style=\"text-align: right;\">\n",
       "      <th></th>\n",
       "      <th>category</th>\n",
       "      <th>main_category</th>\n",
       "      <th>currency</th>\n",
       "      <th>goal</th>\n",
       "      <th>pledged</th>\n",
       "      <th>state</th>\n",
       "      <th>backers</th>\n",
       "      <th>country</th>\n",
       "      <th>usd pledged</th>\n",
       "      <th>deadline_year</th>\n",
       "      <th>deadline_month</th>\n",
       "      <th>launched_year</th>\n",
       "      <th>launched_month</th>\n",
       "    </tr>\n",
       "  </thead>\n",
       "  <tbody>\n",
       "    <tr>\n",
       "      <th>213717</th>\n",
       "      <td>Publishing</td>\n",
       "      <td>Publishing</td>\n",
       "      <td>USD</td>\n",
       "      <td>10000.0</td>\n",
       "      <td>1.00</td>\n",
       "      <td>failed</td>\n",
       "      <td>1</td>\n",
       "      <td>US</td>\n",
       "      <td>1.000000</td>\n",
       "      <td>2016</td>\n",
       "      <td>04</td>\n",
       "      <td>2016</td>\n",
       "      <td>04</td>\n",
       "    </tr>\n",
       "    <tr>\n",
       "      <th>43770</th>\n",
       "      <td>Documentary</td>\n",
       "      <td>Film &amp; Video</td>\n",
       "      <td>USD</td>\n",
       "      <td>8500.0</td>\n",
       "      <td>1.00</td>\n",
       "      <td>failed</td>\n",
       "      <td>1</td>\n",
       "      <td>US</td>\n",
       "      <td>1.000000</td>\n",
       "      <td>2016</td>\n",
       "      <td>05</td>\n",
       "      <td>2016</td>\n",
       "      <td>03</td>\n",
       "    </tr>\n",
       "    <tr>\n",
       "      <th>231717</th>\n",
       "      <td>Apparel</td>\n",
       "      <td>Fashion</td>\n",
       "      <td>USD</td>\n",
       "      <td>50000.0</td>\n",
       "      <td>55829.69</td>\n",
       "      <td>successful</td>\n",
       "      <td>515</td>\n",
       "      <td>US</td>\n",
       "      <td>8357.690000</td>\n",
       "      <td>2016</td>\n",
       "      <td>08</td>\n",
       "      <td>2016</td>\n",
       "      <td>06</td>\n",
       "    </tr>\n",
       "    <tr>\n",
       "      <th>231715</th>\n",
       "      <td>Music</td>\n",
       "      <td>Music</td>\n",
       "      <td>CAD</td>\n",
       "      <td>15000.0</td>\n",
       "      <td>3249.00</td>\n",
       "      <td>failed</td>\n",
       "      <td>39</td>\n",
       "      <td>CA</td>\n",
       "      <td>2394.130300</td>\n",
       "      <td>2016</td>\n",
       "      <td>01</td>\n",
       "      <td>2015</td>\n",
       "      <td>12</td>\n",
       "    </tr>\n",
       "    <tr>\n",
       "      <th>231713</th>\n",
       "      <td>Fiction</td>\n",
       "      <td>Publishing</td>\n",
       "      <td>AUD</td>\n",
       "      <td>15000.0</td>\n",
       "      <td>260.00</td>\n",
       "      <td>failed</td>\n",
       "      <td>3</td>\n",
       "      <td>AU</td>\n",
       "      <td>178.544574</td>\n",
       "      <td>2016</td>\n",
       "      <td>02</td>\n",
       "      <td>2016</td>\n",
       "      <td>01</td>\n",
       "    </tr>\n",
       "  </tbody>\n",
       "</table>\n",
       "</div>"
      ],
      "text/plain": [
       "           category main_category currency     goal   pledged       state  \\\n",
       "213717   Publishing    Publishing      USD  10000.0      1.00      failed   \n",
       "43770   Documentary  Film & Video      USD   8500.0      1.00      failed   \n",
       "231717      Apparel       Fashion      USD  50000.0  55829.69  successful   \n",
       "231715        Music         Music      CAD  15000.0   3249.00      failed   \n",
       "231713      Fiction    Publishing      AUD  15000.0    260.00      failed   \n",
       "\n",
       "        backers country  usd pledged deadline_year deadline_month  \\\n",
       "213717        1      US     1.000000          2016             04   \n",
       "43770         1      US     1.000000          2016             05   \n",
       "231717      515      US  8357.690000          2016             08   \n",
       "231715       39      CA  2394.130300          2016             01   \n",
       "231713        3      AU   178.544574          2016             02   \n",
       "\n",
       "       launched_year launched_month  \n",
       "213717          2016             04  \n",
       "43770           2016             03  \n",
       "231717          2016             06  \n",
       "231715          2015             12  \n",
       "231713          2016             01  "
      ]
     },
     "execution_count": 52,
     "metadata": {},
     "output_type": "execute_result"
    }
   ],
   "source": [
    "deadline_year_df = df.sort_values('deadline_year', ascending=False)\n",
    "deadline_year_df.head()"
   ]
  },
  {
   "cell_type": "code",
   "execution_count": 53,
   "id": "133cf401",
   "metadata": {},
   "outputs": [
    {
     "data": {
      "text/plain": [
       "<AxesSubplot:xlabel='deadline_year', ylabel='Count'>"
      ]
     },
     "execution_count": 53,
     "metadata": {},
     "output_type": "execute_result"
    },
    {
     "data": {
      "image/png": "[encoded data removed]",
      "text/plain": [
       "<Figure size 864x432 with 1 Axes>"
      ]
     },
     "metadata": {},
     "output_type": "display_data"
    }
   ],
   "source": [
    "plt.figure(figsize=(12,6))\n",
    "sns.histplot(data=deadline_year_df, x='deadline_year')"
   ]
  },
  {
   "cell_type": "code",
   "execution_count": 54,
   "id": "feb62261",
   "metadata": {},
   "outputs": [
    {
     "data": {
      "text/plain": [
       "<AxesSubplot:xlabel='deadline_year', ylabel='Count'>"
      ]
     },
     "execution_count": 54,
     "metadata": {},
     "output_type": "execute_result"
    },
    {
     "data": {
      "image/png": "[encoded data removed]",
      "text/plain": [
       "<Figure size 864x432 with 1 Axes>"
      ]
     },
     "metadata": {},
     "output_type": "display_data"
    }
   ],
   "source": [
    "plt.figure(figsize=(12,6))\n",
    "sns.histplot(data=deadline_year_df, x='deadline_year', hue='state')"
   ]
  },
  {
   "cell_type": "markdown",
   "id": "ccf21e2e",
   "metadata": {},
   "source": [
    "#### Observation 7\n",
    "- The maximum number of campaigns had deadlines in the year 2015.\n",
    "- Ever since 2012, more campaigns have failed as compared to those that were successful."
   ]
  },
  {
   "cell_type": "code",
   "execution_count": 55,
   "id": "5d7a1d61",
   "metadata": {},
   "outputs": [
    {
     "data": {
      "text/html": [
       "<div>\n",
       "<style scoped>\n",
       "    .dataframe tbody tr th:only-of-type {\n",
       "        vertical-align: middle;\n",
       "    }\n",
       "\n",
       "    .dataframe tbody tr th {\n",
       "        vertical-align: top;\n",
       "    }\n",
       "\n",
       "    .dataframe thead th {\n",
       "        text-align: right;\n",
       "    }\n",
       "</style>\n",
       "<table border=\"1\" class=\"dataframe\">\n",
       "  <thead>\n",
       "    <tr style=\"text-align: right;\">\n",
       "      <th></th>\n",
       "      <th>category</th>\n",
       "      <th>main_category</th>\n",
       "      <th>currency</th>\n",
       "      <th>goal</th>\n",
       "      <th>pledged</th>\n",
       "      <th>state</th>\n",
       "      <th>backers</th>\n",
       "      <th>country</th>\n",
       "      <th>usd pledged</th>\n",
       "      <th>deadline_year</th>\n",
       "      <th>deadline_month</th>\n",
       "      <th>launched_year</th>\n",
       "      <th>launched_month</th>\n",
       "    </tr>\n",
       "  </thead>\n",
       "  <tbody>\n",
       "    <tr>\n",
       "      <th>52945</th>\n",
       "      <td>Glass</td>\n",
       "      <td>Crafts</td>\n",
       "      <td>USD</td>\n",
       "      <td>400.0</td>\n",
       "      <td>1271.00</td>\n",
       "      <td>successful</td>\n",
       "      <td>21</td>\n",
       "      <td>US</td>\n",
       "      <td>1271.000000</td>\n",
       "      <td>2016</td>\n",
       "      <td>01</td>\n",
       "      <td>2016</td>\n",
       "      <td>01</td>\n",
       "    </tr>\n",
       "    <tr>\n",
       "      <th>264358</th>\n",
       "      <td>Rock</td>\n",
       "      <td>Music</td>\n",
       "      <td>USD</td>\n",
       "      <td>15000.0</td>\n",
       "      <td>38077.18</td>\n",
       "      <td>successful</td>\n",
       "      <td>760</td>\n",
       "      <td>US</td>\n",
       "      <td>38077.180000</td>\n",
       "      <td>2012</td>\n",
       "      <td>01</td>\n",
       "      <td>2011</td>\n",
       "      <td>12</td>\n",
       "    </tr>\n",
       "    <tr>\n",
       "      <th>279091</th>\n",
       "      <td>Photography</td>\n",
       "      <td>Photography</td>\n",
       "      <td>USD</td>\n",
       "      <td>2700.0</td>\n",
       "      <td>345.00</td>\n",
       "      <td>failed</td>\n",
       "      <td>11</td>\n",
       "      <td>US</td>\n",
       "      <td>345.000000</td>\n",
       "      <td>2013</td>\n",
       "      <td>01</td>\n",
       "      <td>2012</td>\n",
       "      <td>12</td>\n",
       "    </tr>\n",
       "    <tr>\n",
       "      <th>312557</th>\n",
       "      <td>Shorts</td>\n",
       "      <td>Film &amp; Video</td>\n",
       "      <td>GBP</td>\n",
       "      <td>250.0</td>\n",
       "      <td>501.00</td>\n",
       "      <td>successful</td>\n",
       "      <td>10</td>\n",
       "      <td>GB</td>\n",
       "      <td>806.381519</td>\n",
       "      <td>2013</td>\n",
       "      <td>01</td>\n",
       "      <td>2012</td>\n",
       "      <td>12</td>\n",
       "    </tr>\n",
       "    <tr>\n",
       "      <th>164595</th>\n",
       "      <td>Food</td>\n",
       "      <td>Food</td>\n",
       "      <td>USD</td>\n",
       "      <td>16088.0</td>\n",
       "      <td>17384.88</td>\n",
       "      <td>successful</td>\n",
       "      <td>189</td>\n",
       "      <td>US</td>\n",
       "      <td>17384.880000</td>\n",
       "      <td>2014</td>\n",
       "      <td>01</td>\n",
       "      <td>2013</td>\n",
       "      <td>12</td>\n",
       "    </tr>\n",
       "  </tbody>\n",
       "</table>\n",
       "</div>"
      ],
      "text/plain": [
       "           category main_category currency     goal   pledged       state  \\\n",
       "52945         Glass        Crafts      USD    400.0   1271.00  successful   \n",
       "264358         Rock         Music      USD  15000.0  38077.18  successful   \n",
       "279091  Photography   Photography      USD   2700.0    345.00      failed   \n",
       "312557       Shorts  Film & Video      GBP    250.0    501.00  successful   \n",
       "164595         Food          Food      USD  16088.0  17384.88  successful   \n",
       "\n",
       "        backers country   usd pledged deadline_year deadline_month  \\\n",
       "52945        21      US   1271.000000          2016             01   \n",
       "264358      760      US  38077.180000          2012             01   \n",
       "279091       11      US    345.000000          2013             01   \n",
       "312557       10      GB    806.381519          2013             01   \n",
       "164595      189      US  17384.880000          2014             01   \n",
       "\n",
       "       launched_year launched_month  \n",
       "52945           2016             01  \n",
       "264358          2011             12  \n",
       "279091          2012             12  \n",
       "312557          2012             12  \n",
       "164595          2013             12  "
      ]
     },
     "execution_count": 55,
     "metadata": {},
     "output_type": "execute_result"
    }
   ],
   "source": [
    "deadline_month_df = df.sort_values('deadline_month')\n",
    "deadline_month_df.head()"
   ]
  },
  {
   "cell_type": "code",
   "execution_count": 56,
   "id": "22852114",
   "metadata": {},
   "outputs": [
    {
     "data": {
      "text/plain": [
       "<AxesSubplot:xlabel='deadline_month', ylabel='Count'>"
      ]
     },
     "execution_count": 56,
     "metadata": {},
     "output_type": "execute_result"
    },
    {
     "data": {
      "image/png": "[encoded data removed]",
      "text/plain": [
       "<Figure size 864x432 with 1 Axes>"
      ]
     },
     "metadata": {},
     "output_type": "display_data"
    }
   ],
   "source": [
    "plt.figure(figsize=(12,6))\n",
    "sns.histplot(data=deadline_month_df, x='deadline_month')"
   ]
  },
  {
   "cell_type": "code",
   "execution_count": 57,
   "id": "49278f37",
   "metadata": {},
   "outputs": [
    {
     "data": {
      "text/plain": [
       "<AxesSubplot:xlabel='deadline_month', ylabel='Count'>"
      ]
     },
     "execution_count": 57,
     "metadata": {},
     "output_type": "execute_result"
    },
    {
     "data": {
      "image/png": "[encoded data removed]",
      "text/plain": [
       "<Figure size 864x432 with 1 Axes>"
      ]
     },
     "metadata": {},
     "output_type": "display_data"
    }
   ],
   "source": [
    "plt.figure(figsize=(12,6))\n",
    "sns.histplot(data=deadline_month_df, x='deadline_month', hue='state')"
   ]
  },
  {
   "cell_type": "markdown",
   "id": "114d0dae",
   "metadata": {},
   "source": [
    "#### Observation 8\n",
    "- Most of the campaigns had a deadline in the month of August.\n",
    "- The least number of campaigns had deadlines in January."
   ]
  },
  {
   "cell_type": "markdown",
   "id": "95306ead",
   "metadata": {},
   "source": [
    "Let's now continue by exploring the launch months and years for all the campaigns."
   ]
  },
  {
   "cell_type": "code",
   "execution_count": 58,
   "id": "2666d70c",
   "metadata": {},
   "outputs": [
    {
     "data": {
      "text/html": [
       "<div>\n",
       "<style scoped>\n",
       "    .dataframe tbody tr th:only-of-type {\n",
       "        vertical-align: middle;\n",
       "    }\n",
       "\n",
       "    .dataframe tbody tr th {\n",
       "        vertical-align: top;\n",
       "    }\n",
       "\n",
       "    .dataframe thead th {\n",
       "        text-align: right;\n",
       "    }\n",
       "</style>\n",
       "<table border=\"1\" class=\"dataframe\">\n",
       "  <thead>\n",
       "    <tr style=\"text-align: right;\">\n",
       "      <th></th>\n",
       "      <th>category</th>\n",
       "      <th>main_category</th>\n",
       "      <th>currency</th>\n",
       "      <th>goal</th>\n",
       "      <th>pledged</th>\n",
       "      <th>state</th>\n",
       "      <th>backers</th>\n",
       "      <th>country</th>\n",
       "      <th>usd pledged</th>\n",
       "      <th>deadline_year</th>\n",
       "      <th>deadline_month</th>\n",
       "      <th>launched_year</th>\n",
       "      <th>launched_month</th>\n",
       "    </tr>\n",
       "  </thead>\n",
       "  <tbody>\n",
       "    <tr>\n",
       "      <th>83754</th>\n",
       "      <td>Gadgets</td>\n",
       "      <td>Technology</td>\n",
       "      <td>USD</td>\n",
       "      <td>50000.0</td>\n",
       "      <td>38934.0</td>\n",
       "      <td>failed</td>\n",
       "      <td>542</td>\n",
       "      <td>US</td>\n",
       "      <td>15760.000000</td>\n",
       "      <td>2016</td>\n",
       "      <td>11</td>\n",
       "      <td>2016</td>\n",
       "      <td>10</td>\n",
       "    </tr>\n",
       "    <tr>\n",
       "      <th>79846</th>\n",
       "      <td>Product Design</td>\n",
       "      <td>Design</td>\n",
       "      <td>AUD</td>\n",
       "      <td>45000.0</td>\n",
       "      <td>45862.0</td>\n",
       "      <td>successful</td>\n",
       "      <td>706</td>\n",
       "      <td>AU</td>\n",
       "      <td>32860.933382</td>\n",
       "      <td>2016</td>\n",
       "      <td>06</td>\n",
       "      <td>2016</td>\n",
       "      <td>05</td>\n",
       "    </tr>\n",
       "    <tr>\n",
       "      <th>147361</th>\n",
       "      <td>Indie Rock</td>\n",
       "      <td>Music</td>\n",
       "      <td>USD</td>\n",
       "      <td>2000.0</td>\n",
       "      <td>2000.0</td>\n",
       "      <td>successful</td>\n",
       "      <td>32</td>\n",
       "      <td>US</td>\n",
       "      <td>2000.000000</td>\n",
       "      <td>2016</td>\n",
       "      <td>05</td>\n",
       "      <td>2016</td>\n",
       "      <td>04</td>\n",
       "    </tr>\n",
       "    <tr>\n",
       "      <th>232306</th>\n",
       "      <td>Art</td>\n",
       "      <td>Art</td>\n",
       "      <td>USD</td>\n",
       "      <td>3000.0</td>\n",
       "      <td>715.0</td>\n",
       "      <td>failed</td>\n",
       "      <td>17</td>\n",
       "      <td>US</td>\n",
       "      <td>715.000000</td>\n",
       "      <td>2016</td>\n",
       "      <td>06</td>\n",
       "      <td>2016</td>\n",
       "      <td>05</td>\n",
       "    </tr>\n",
       "    <tr>\n",
       "      <th>79750</th>\n",
       "      <td>Classical Music</td>\n",
       "      <td>Music</td>\n",
       "      <td>USD</td>\n",
       "      <td>12000.0</td>\n",
       "      <td>14000.0</td>\n",
       "      <td>successful</td>\n",
       "      <td>159</td>\n",
       "      <td>US</td>\n",
       "      <td>12772.000000</td>\n",
       "      <td>2016</td>\n",
       "      <td>07</td>\n",
       "      <td>2016</td>\n",
       "      <td>06</td>\n",
       "    </tr>\n",
       "  </tbody>\n",
       "</table>\n",
       "</div>"
      ],
      "text/plain": [
       "               category main_category currency     goal  pledged       state  \\\n",
       "83754           Gadgets    Technology      USD  50000.0  38934.0      failed   \n",
       "79846    Product Design        Design      AUD  45000.0  45862.0  successful   \n",
       "147361       Indie Rock         Music      USD   2000.0   2000.0  successful   \n",
       "232306              Art           Art      USD   3000.0    715.0      failed   \n",
       "79750   Classical Music         Music      USD  12000.0  14000.0  successful   \n",
       "\n",
       "        backers country   usd pledged deadline_year deadline_month  \\\n",
       "83754       542      US  15760.000000          2016             11   \n",
       "79846       706      AU  32860.933382          2016             06   \n",
       "147361       32      US   2000.000000          2016             05   \n",
       "232306       17      US    715.000000          2016             06   \n",
       "79750       159      US  12772.000000          2016             07   \n",
       "\n",
       "       launched_year launched_month  \n",
       "83754           2016             10  \n",
       "79846           2016             05  \n",
       "147361          2016             04  \n",
       "232306          2016             05  \n",
       "79750           2016             06  "
      ]
     },
     "execution_count": 58,
     "metadata": {},
     "output_type": "execute_result"
    }
   ],
   "source": [
    "launched_year_df = df.sort_values('launched_year', ascending=False)\n",
    "launched_year_df.head()"
   ]
  },
  {
   "cell_type": "code",
   "execution_count": 59,
   "id": "bfb517d2",
   "metadata": {},
   "outputs": [
    {
     "data": {
      "text/plain": [
       "<AxesSubplot:xlabel='launched_year', ylabel='Count'>"
      ]
     },
     "execution_count": 59,
     "metadata": {},
     "output_type": "execute_result"
    },
    {
     "data": {
      "image/png": "[encoded data removed]",
      "text/plain": [
       "<Figure size 864x432 with 1 Axes>"
      ]
     },
     "metadata": {},
     "output_type": "display_data"
    }
   ],
   "source": [
    "plt.figure(figsize=(12,6))\n",
    "sns.histplot(data=launched_year_df, x='launched_year')"
   ]
  },
  {
   "cell_type": "code",
   "execution_count": 60,
   "id": "4cf55c8a",
   "metadata": {},
   "outputs": [
    {
     "data": {
      "text/plain": [
       "<AxesSubplot:xlabel='launched_year', ylabel='Count'>"
      ]
     },
     "execution_count": 60,
     "metadata": {},
     "output_type": "execute_result"
    },
    {
     "data": {
      "image/png": "[encoded data removed]",
      "text/plain": [
       "<Figure size 864x432 with 1 Axes>"
      ]
     },
     "metadata": {},
     "output_type": "display_data"
    }
   ],
   "source": [
    "plt.figure(figsize=(12,6))\n",
    "sns.histplot(data=launched_year_df, x='launched_year', hue='state')"
   ]
  },
  {
   "cell_type": "code",
   "execution_count": 61,
   "id": "4bcfe8ac",
   "metadata": {},
   "outputs": [
    {
     "data": {
      "text/html": [
       "<div>\n",
       "<style scoped>\n",
       "    .dataframe tbody tr th:only-of-type {\n",
       "        vertical-align: middle;\n",
       "    }\n",
       "\n",
       "    .dataframe tbody tr th {\n",
       "        vertical-align: top;\n",
       "    }\n",
       "\n",
       "    .dataframe thead th {\n",
       "        text-align: right;\n",
       "    }\n",
       "</style>\n",
       "<table border=\"1\" class=\"dataframe\">\n",
       "  <thead>\n",
       "    <tr style=\"text-align: right;\">\n",
       "      <th></th>\n",
       "      <th>category</th>\n",
       "      <th>main_category</th>\n",
       "      <th>currency</th>\n",
       "      <th>goal</th>\n",
       "      <th>pledged</th>\n",
       "      <th>state</th>\n",
       "      <th>backers</th>\n",
       "      <th>country</th>\n",
       "      <th>usd pledged</th>\n",
       "      <th>deadline_year</th>\n",
       "      <th>deadline_month</th>\n",
       "      <th>launched_year</th>\n",
       "      <th>launched_month</th>\n",
       "    </tr>\n",
       "  </thead>\n",
       "  <tbody>\n",
       "    <tr>\n",
       "      <th>141906</th>\n",
       "      <td>Music</td>\n",
       "      <td>Music</td>\n",
       "      <td>USD</td>\n",
       "      <td>20000.0</td>\n",
       "      <td>0.00</td>\n",
       "      <td>failed</td>\n",
       "      <td>0</td>\n",
       "      <td>US</td>\n",
       "      <td>0.00</td>\n",
       "      <td>2013</td>\n",
       "      <td>02</td>\n",
       "      <td>2013</td>\n",
       "      <td>01</td>\n",
       "    </tr>\n",
       "    <tr>\n",
       "      <th>170346</th>\n",
       "      <td>Digital Art</td>\n",
       "      <td>Art</td>\n",
       "      <td>USD</td>\n",
       "      <td>1500.0</td>\n",
       "      <td>1553.00</td>\n",
       "      <td>successful</td>\n",
       "      <td>20</td>\n",
       "      <td>US</td>\n",
       "      <td>1553.00</td>\n",
       "      <td>2012</td>\n",
       "      <td>02</td>\n",
       "      <td>2012</td>\n",
       "      <td>01</td>\n",
       "    </tr>\n",
       "    <tr>\n",
       "      <th>33490</th>\n",
       "      <td>Webseries</td>\n",
       "      <td>Film &amp; Video</td>\n",
       "      <td>USD</td>\n",
       "      <td>300.0</td>\n",
       "      <td>335.00</td>\n",
       "      <td>successful</td>\n",
       "      <td>13</td>\n",
       "      <td>US</td>\n",
       "      <td>335.00</td>\n",
       "      <td>2012</td>\n",
       "      <td>02</td>\n",
       "      <td>2012</td>\n",
       "      <td>01</td>\n",
       "    </tr>\n",
       "    <tr>\n",
       "      <th>102674</th>\n",
       "      <td>Illustration</td>\n",
       "      <td>Art</td>\n",
       "      <td>USD</td>\n",
       "      <td>150.0</td>\n",
       "      <td>898.00</td>\n",
       "      <td>successful</td>\n",
       "      <td>58</td>\n",
       "      <td>US</td>\n",
       "      <td>898.00</td>\n",
       "      <td>2016</td>\n",
       "      <td>02</td>\n",
       "      <td>2016</td>\n",
       "      <td>01</td>\n",
       "    </tr>\n",
       "    <tr>\n",
       "      <th>152234</th>\n",
       "      <td>Indie Rock</td>\n",
       "      <td>Music</td>\n",
       "      <td>USD</td>\n",
       "      <td>10000.0</td>\n",
       "      <td>12664.61</td>\n",
       "      <td>successful</td>\n",
       "      <td>243</td>\n",
       "      <td>US</td>\n",
       "      <td>12664.61</td>\n",
       "      <td>2012</td>\n",
       "      <td>03</td>\n",
       "      <td>2012</td>\n",
       "      <td>01</td>\n",
       "    </tr>\n",
       "  </tbody>\n",
       "</table>\n",
       "</div>"
      ],
      "text/plain": [
       "            category main_category currency     goal   pledged       state  \\\n",
       "141906         Music         Music      USD  20000.0      0.00      failed   \n",
       "170346   Digital Art           Art      USD   1500.0   1553.00  successful   \n",
       "33490      Webseries  Film & Video      USD    300.0    335.00  successful   \n",
       "102674  Illustration           Art      USD    150.0    898.00  successful   \n",
       "152234    Indie Rock         Music      USD  10000.0  12664.61  successful   \n",
       "\n",
       "        backers country  usd pledged deadline_year deadline_month  \\\n",
       "141906        0      US         0.00          2013             02   \n",
       "170346       20      US      1553.00          2012             02   \n",
       "33490        13      US       335.00          2012             02   \n",
       "102674       58      US       898.00          2016             02   \n",
       "152234      243      US     12664.61          2012             03   \n",
       "\n",
       "       launched_year launched_month  \n",
       "141906          2013             01  \n",
       "170346          2012             01  \n",
       "33490           2012             01  \n",
       "102674          2016             01  \n",
       "152234          2012             01  "
      ]
     },
     "execution_count": 61,
     "metadata": {},
     "output_type": "execute_result"
    }
   ],
   "source": [
    "launched_month_df = df.sort_values('launched_month')\n",
    "launched_month_df.head()"
   ]
  },
  {
   "cell_type": "code",
   "execution_count": 62,
   "id": "0617d407",
   "metadata": {},
   "outputs": [
    {
     "data": {
      "text/plain": [
       "<AxesSubplot:xlabel='launched_month', ylabel='Count'>"
      ]
     },
     "execution_count": 62,
     "metadata": {},
     "output_type": "execute_result"
    },
    {
     "data": {
      "image/png": "[encoded data removed]",
      "text/plain": [
       "<Figure size 864x432 with 1 Axes>"
      ]
     },
     "metadata": {},
     "output_type": "display_data"
    }
   ],
   "source": [
    "plt.figure(figsize=(12,6))\n",
    "sns.histplot(data=launched_month_df, x='launched_month')"
   ]
  },
  {
   "cell_type": "code",
   "execution_count": 63,
   "id": "567bc04e",
   "metadata": {},
   "outputs": [
    {
     "data": {
      "text/plain": [
       "<AxesSubplot:xlabel='launched_month', ylabel='Count'>"
      ]
     },
     "execution_count": 63,
     "metadata": {},
     "output_type": "execute_result"
    },
    {
     "data": {
      "image/png": "[encoded data removed]",
      "text/plain": [
       "<Figure size 864x432 with 1 Axes>"
      ]
     },
     "metadata": {},
     "output_type": "display_data"
    }
   ],
   "source": [
    "plt.figure(figsize=(12,6))\n",
    "sns.histplot(data=launched_month_df, x='launched_month', hue='state')"
   ]
  },
  {
   "cell_type": "markdown",
   "id": "2e5bd5d6",
   "metadata": {},
   "source": [
    "#### Observation 9\n",
    "- Most of the campaigns were launched in the month of July.\n",
    "- The least number of campaigns were launched in December. This may probably be because most of the donors live in the US and it's festival time then.\n",
    "\n",
    "Now let's compare the total amount pledged and the goal with respect to the month and year of a campaign launch."
   ]
  },
  {
   "cell_type": "code",
   "execution_count": 64,
   "id": "58e293d9",
   "metadata": {},
   "outputs": [
    {
     "data": {
      "text/html": [
       "<div>\n",
       "<style scoped>\n",
       "    .dataframe tbody tr th:only-of-type {\n",
       "        vertical-align: middle;\n",
       "    }\n",
       "\n",
       "    .dataframe tbody tr th {\n",
       "        vertical-align: top;\n",
       "    }\n",
       "\n",
       "    .dataframe thead th {\n",
       "        text-align: right;\n",
       "    }\n",
       "</style>\n",
       "<table border=\"1\" class=\"dataframe\">\n",
       "  <thead>\n",
       "    <tr style=\"text-align: right;\">\n",
       "      <th></th>\n",
       "      <th>category</th>\n",
       "      <th>main_category</th>\n",
       "      <th>currency</th>\n",
       "      <th>goal</th>\n",
       "      <th>pledged</th>\n",
       "      <th>state</th>\n",
       "      <th>backers</th>\n",
       "      <th>country</th>\n",
       "      <th>usd pledged</th>\n",
       "      <th>deadline_year</th>\n",
       "      <th>deadline_month</th>\n",
       "      <th>launched_year</th>\n",
       "      <th>launched_month</th>\n",
       "    </tr>\n",
       "  </thead>\n",
       "  <tbody>\n",
       "    <tr>\n",
       "      <th>0</th>\n",
       "      <td>Poetry</td>\n",
       "      <td>Publishing</td>\n",
       "      <td>GBP</td>\n",
       "      <td>1000.0</td>\n",
       "      <td>0.0</td>\n",
       "      <td>failed</td>\n",
       "      <td>0</td>\n",
       "      <td>GB</td>\n",
       "      <td>0.0</td>\n",
       "      <td>2015</td>\n",
       "      <td>10</td>\n",
       "      <td>2015</td>\n",
       "      <td>08</td>\n",
       "    </tr>\n",
       "    <tr>\n",
       "      <th>1</th>\n",
       "      <td>Narrative Film</td>\n",
       "      <td>Film &amp; Video</td>\n",
       "      <td>USD</td>\n",
       "      <td>45000.0</td>\n",
       "      <td>220.0</td>\n",
       "      <td>failed</td>\n",
       "      <td>3</td>\n",
       "      <td>US</td>\n",
       "      <td>220.0</td>\n",
       "      <td>2013</td>\n",
       "      <td>02</td>\n",
       "      <td>2013</td>\n",
       "      <td>01</td>\n",
       "    </tr>\n",
       "    <tr>\n",
       "      <th>2</th>\n",
       "      <td>Music</td>\n",
       "      <td>Music</td>\n",
       "      <td>USD</td>\n",
       "      <td>5000.0</td>\n",
       "      <td>1.0</td>\n",
       "      <td>failed</td>\n",
       "      <td>1</td>\n",
       "      <td>US</td>\n",
       "      <td>1.0</td>\n",
       "      <td>2012</td>\n",
       "      <td>04</td>\n",
       "      <td>2012</td>\n",
       "      <td>03</td>\n",
       "    </tr>\n",
       "    <tr>\n",
       "      <th>4</th>\n",
       "      <td>Restaurants</td>\n",
       "      <td>Food</td>\n",
       "      <td>USD</td>\n",
       "      <td>50000.0</td>\n",
       "      <td>52375.0</td>\n",
       "      <td>successful</td>\n",
       "      <td>224</td>\n",
       "      <td>US</td>\n",
       "      <td>52375.0</td>\n",
       "      <td>2016</td>\n",
       "      <td>04</td>\n",
       "      <td>2016</td>\n",
       "      <td>02</td>\n",
       "    </tr>\n",
       "    <tr>\n",
       "      <th>5</th>\n",
       "      <td>Food</td>\n",
       "      <td>Food</td>\n",
       "      <td>USD</td>\n",
       "      <td>1000.0</td>\n",
       "      <td>1205.0</td>\n",
       "      <td>successful</td>\n",
       "      <td>16</td>\n",
       "      <td>US</td>\n",
       "      <td>1205.0</td>\n",
       "      <td>2014</td>\n",
       "      <td>12</td>\n",
       "      <td>2014</td>\n",
       "      <td>12</td>\n",
       "    </tr>\n",
       "  </tbody>\n",
       "</table>\n",
       "</div>"
      ],
      "text/plain": [
       "         category main_category currency     goal  pledged       state  \\\n",
       "0          Poetry    Publishing      GBP   1000.0      0.0      failed   \n",
       "1  Narrative Film  Film & Video      USD  45000.0    220.0      failed   \n",
       "2           Music         Music      USD   5000.0      1.0      failed   \n",
       "4     Restaurants          Food      USD  50000.0  52375.0  successful   \n",
       "5            Food          Food      USD   1000.0   1205.0  successful   \n",
       "\n",
       "   backers country  usd pledged deadline_year deadline_month launched_year  \\\n",
       "0        0      GB          0.0          2015             10          2015   \n",
       "1        3      US        220.0          2013             02          2013   \n",
       "2        1      US          1.0          2012             04          2012   \n",
       "4      224      US      52375.0          2016             04          2016   \n",
       "5       16      US       1205.0          2014             12          2014   \n",
       "\n",
       "  launched_month  \n",
       "0             08  \n",
       "1             01  \n",
       "2             03  \n",
       "4             02  \n",
       "5             12  "
      ]
     },
     "execution_count": 64,
     "metadata": {},
     "output_type": "execute_result"
    }
   ],
   "source": [
    "df.head()"
   ]
  },
  {
   "cell_type": "code",
   "execution_count": 65,
   "id": "274fdc66",
   "metadata": {},
   "outputs": [
    {
     "data": {
      "text/plain": [
       "<AxesSubplot:xlabel='launched_year', ylabel='goal'>"
      ]
     },
     "execution_count": 65,
     "metadata": {},
     "output_type": "execute_result"
    },
    {
     "data": {
      "image/png": "[encoded data removed]",
      "text/plain": [
       "<Figure size 864x432 with 1 Axes>"
      ]
     },
     "metadata": {},
     "output_type": "display_data"
    }
   ],
   "source": [
    "plt.figure(figsize=(12,6))\n",
    "sns.barplot(data=launched_year_df, x='launched_year', y='goal', estimator=np.sum)"
   ]
  },
  {
   "cell_type": "code",
   "execution_count": 66,
   "id": "2d7b82e9",
   "metadata": {
    "scrolled": false
   },
   "outputs": [
    {
     "data": {
      "text/plain": [
       "<AxesSubplot:xlabel='launched_year', ylabel='pledged'>"
      ]
     },
     "execution_count": 66,
     "metadata": {},
     "output_type": "execute_result"
    },
    {
     "data": {
      "image/png": "[encoded data removed]",
      "text/plain": [
       "<Figure size 864x432 with 1 Axes>"
      ]
     },
     "metadata": {},
     "output_type": "display_data"
    }
   ],
   "source": [
    "plt.figure(figsize=(12,6))\n",
    "sns.barplot(data=launched_year_df, x='launched_year', y='pledged', estimator=np.sum)"
   ]
  },
  {
   "cell_type": "code",
   "execution_count": 67,
   "id": "c7657056",
   "metadata": {},
   "outputs": [
    {
     "data": {
      "image/png": "[encoded data removed]",
      "text/plain": [
       "<Figure size 432x288 with 1 Axes>"
      ]
     },
     "metadata": {},
     "output_type": "display_data"
    }
   ],
   "source": [
    "ax = plt.subplots()\n",
    "\n",
    "ax = sns.barplot(data=launched_year_df, x='launched_year', y='goal', estimator=np.sum, color='lime')\n",
    "ax = sns.barplot(data=launched_year_df, x='launched_year', y='pledged', estimator=np.sum, color='green')"
   ]
  },
  {
   "cell_type": "markdown",
   "id": "885f5117",
   "metadata": {},
   "source": [
    "#### Observation 10\n",
    "There is a massive difference between the goal and the amount pledged in the year 2015. The cause for such an overestimation should definitely be investigated."
   ]
  },
  {
   "cell_type": "code",
   "execution_count": 68,
   "id": "18db1ede",
   "metadata": {},
   "outputs": [
    {
     "data": {
      "text/plain": [
       "<AxesSubplot:xlabel='launched_month', ylabel='goal'>"
      ]
     },
     "execution_count": 68,
     "metadata": {},
     "output_type": "execute_result"
    },
    {
     "data": {
      "image/png": "[encoded data removed]",
      "text/plain": [
       "<Figure size 864x432 with 1 Axes>"
      ]
     },
     "metadata": {},
     "output_type": "display_data"
    }
   ],
   "source": [
    "plt.figure(figsize=(12,6))\n",
    "sns.barplot(data=launched_month_df, x='launched_month', y='goal', estimator=np.sum)"
   ]
  },
  {
   "cell_type": "code",
   "execution_count": 69,
   "id": "c5b7628c",
   "metadata": {},
   "outputs": [
    {
     "data": {
      "text/plain": [
       "<AxesSubplot:xlabel='launched_month', ylabel='pledged'>"
      ]
     },
     "execution_count": 69,
     "metadata": {},
     "output_type": "execute_result"
    },
    {
     "data": {
      "image/png": "[encoded data removed]",
      "text/plain": [
       "<Figure size 864x432 with 1 Axes>"
      ]
     },
     "metadata": {},
     "output_type": "display_data"
    }
   ],
   "source": [
    "plt.figure(figsize=(12,6))\n",
    "sns.barplot(data=launched_month_df, x='launched_month', y='pledged', estimator=np.sum)"
   ]
  },
  {
   "cell_type": "code",
   "execution_count": 70,
   "id": "11355bce",
   "metadata": {},
   "outputs": [
    {
     "data": {
      "image/png": "[encoded data removed]",
      "text/plain": [
       "<Figure size 432x288 with 1 Axes>"
      ]
     },
     "metadata": {},
     "output_type": "display_data"
    }
   ],
   "source": [
    "ax = plt.subplots()\n",
    "\n",
    "ax = sns.barplot(data=launched_month_df, x='launched_month', y='goal', estimator=np.sum, color='lime')\n",
    "ax = sns.barplot(data=launched_month_df, x='launched_month', y='pledged', estimator=np.sum, color='green')"
   ]
  },
  {
   "cell_type": "markdown",
   "id": "1cac7f94",
   "metadata": {},
   "source": [
    "#### Observation 11\n",
    "- The amount of money pledged is more or less independent of the month. However, the goals widely vary for each month which should not be the case.\n",
    "- If we want the amount of money pledged to follow a similar pattern as the goals set for each month, effective measures should be taken to promote the campaign in some of the target months (August, for example)."
   ]
  }
 ],
 "metadata": {
  "kernelspec": {
   "display_name": "Python 3",
   "language": "python",
   "name": "python3"
  },
  "language_info": {
   "codemirror_mode": {
    "name": "ipython",
    "version": 3
   },
   "file_extension": ".py",
   "mimetype": "text/x-python",
   "name": "python",
   "nbconvert_exporter": "python",
   "pygments_lexer": "ipython3",
   "version": "3.8.8"
  }
 },
 "nbformat": 4,
 "nbformat_minor": 5
}
